{
  "cells": [
    {
      "cell_type": "markdown",
      "metadata": {
        "id": "view-in-github",
        "colab_type": "text"
      },
      "source": [
        "<a href=\"https://colab.research.google.com/github/tophercollins/handwritten-character-recognition/blob/main/custom_handwritten_character_recognition_v1.ipynb\" target=\"_parent\"><img src=\"https://colab.research.google.com/assets/colab-badge.svg\" alt=\"Open In Colab\"/></a>"
      ]
    },
    {
      "cell_type": "markdown",
      "metadata": {
        "id": "zy_Xp19FyVNW"
      },
      "source": [
        "# Custom EMNIST Handwritten Character Recognition\n",
        "\n",
        "## Structure\n",
        "0. Instruction\n",
        "1. Setup\n",
        "2. Load Data\n",
        "3. Pre-process Data\n",
        "4. View Samples\n",
        "5. Model Experiments\n",
        "6. Model (Final Selection)\n",
        "7. Results"
      ]
    },
    {
      "cell_type": "markdown",
      "metadata": {
        "id": "MdVDFJbcWlhj"
      },
      "source": [
        "# 0. **Instruction**\n",
        "* *You can add/remove Target and Strikethrough Characters from the 2 lists below.*\n",
        "* *You can switch between the Regular and Balanced EMNIST data\n",
        "  * Regular: Maximum amount of training data but classes are imbalanced\n",
        "  * Balanced: MUCH less training data but classes are balanced\n",
        "* *If the Strikethrough Characters are confusing the model, you can set STRIKETHROUGH_ON = False*\n",
        "* *You can run the experiment models by setting RUN_EXPERIMENTS = True*"
      ]
    },
    {
      "cell_type": "code",
      "execution_count": 1,
      "metadata": {
        "id": "NG3QrmbAWoXP"
      },
      "outputs": [],
      "source": [
        "### Set Target and Strikethrough Characters\n",
        "\n",
        "TARGET_CLASSES = ['0','1','2','3','4','5','C','M','V','X']\n",
        "STRIKETHROUGH_CLASSES = ['0_s','1_s','2_s','3_s','4_s','5_s','V_s']\n",
        "\n",
        "### Regular/Full Emnist or Balanced Emnist\n",
        "\n",
        "EMNIST_PATH = 'emnist'\n",
        "# EMNIST_PATH = 'emnist/balanced'\n",
        "\n",
        "### Set Strikethrough Characters On/Off (True/False)\n",
        "\n",
        "STRIKETHROUGH_ON = True\n",
        "\n",
        "### Run Experiments On/Off (True/False)\n",
        "\n",
        "RUN_EXPERIMENTS = False"
      ]
    },
    {
      "cell_type": "markdown",
      "metadata": {
        "id": "Mzg5RZa2WqWB"
      },
      "source": [
        "# 1. Setup\n",
        "* Setup\n",
        "* Import Packages and Dependencies\n",
        "* Create Helper Functions"
      ]
    },
    {
      "cell_type": "markdown",
      "metadata": {
        "id": "JsU1QhIaZOJQ"
      },
      "source": [
        "## Classes/Labels"
      ]
    },
    {
      "cell_type": "code",
      "execution_count": 2,
      "metadata": {
        "colab": {
          "base_uri": "https://localhost:8080/"
        },
        "id": "1ugO27O4Wqrl",
        "outputId": "06f21ecd-ae5e-4c51-9142-66a452352f20"
      },
      "outputs": [
        {
          "output_type": "stream",
          "name": "stdout",
          "text": [
            "Number of Classes: 17\n",
            "Classes: ['0', '1', '2', '3', '4', '5', 'C', 'M', 'V', 'X', '0_s', '1_s', '2_s', '3_s', '4_s', '5_s', 'V_s']\n",
            "Original Labels: [0, 1, 2, 3, 4, 5, 12, 22, 31, 33]\n",
            "Original to New: {0: 0, 1: 1, 2: 2, 3: 3, 4: 4, 5: 5, 12: 6, 22: 7, 31: 8, 33: 9}\n",
            "New Label Mapping: {0: '0', 1: '1', 2: '2', 3: '3', 4: '4', 5: '5', 6: 'C', 7: 'M', 8: 'V', 9: 'X', 10: '0_s', 11: '1_s', 12: '2_s', 13: '3_s', 14: '4_s', 15: '5_s', 16: 'V_s'}\n"
          ]
        }
      ],
      "source": [
        "### Classes\n",
        "if STRIKETHROUGH_ON:\n",
        "  CLASSES = TARGET_CLASSES + STRIKETHROUGH_CLASSES\n",
        "else:\n",
        "  CLASSES = TARGET_CLASSES\n",
        "\n",
        "NUM_CLASSES = len(CLASSES)\n",
        "\n",
        "print(f'Number of Classes: {NUM_CLASSES}')\n",
        "print(f'Classes: {CLASSES}')\n",
        "\n",
        "# Character to Label Mapping\n",
        "ORIGINAL_LABEL_MAPPING = {'0': 0, '1': 1, '2': 2, '3': 3, '4': 4, '5': 5, '6': 6, '7': 7, '8': 8, '9': 9,\n",
        "                 'A': 10, 'B': 11, 'C': 12, 'D': 13, 'E': 14, 'F': 15, 'G': 16, 'H': 17, 'I': 18,\n",
        "                 'J': 19, 'K': 20, 'L': 21, 'M': 22, 'N': 23, 'O': 24, 'P': 25, 'Q': 26, 'R': 27,\n",
        "                 'S': 28, 'T': 29, 'U': 30, 'V': 31, 'W': 32, 'X': 33, 'Y': 34, 'Z': 35}\n",
        "\n",
        "# Labels\n",
        "ORIGINAL_LABELS = [ORIGINAL_LABEL_MAPPING[char] for char in TARGET_CLASSES]\n",
        "ORIGINAL_TO_NEW = {char: index for index, char in enumerate(ORIGINAL_LABELS)}\n",
        "NEW_LABEL_MAPPING = {index: char for index, char in enumerate(CLASSES)}\n",
        "\n",
        "print(f'Original Labels: {ORIGINAL_LABELS}')\n",
        "print(f'Original to New: {ORIGINAL_TO_NEW}')\n",
        "print(f'New Label Mapping: {NEW_LABEL_MAPPING}')"
      ]
    },
    {
      "cell_type": "markdown",
      "metadata": {
        "id": "koCos-4OZS7Z"
      },
      "source": [
        "## Packages/Dependencies"
      ]
    },
    {
      "cell_type": "code",
      "execution_count": 3,
      "metadata": {
        "id": "hLlfNHQNWxtk"
      },
      "outputs": [],
      "source": [
        "import tensorflow_datasets as tfds\n",
        "import tensorflow as tf\n",
        "import numpy as np\n",
        "import matplotlib.pyplot as plt\n",
        "import os\n",
        "import random\n",
        "import cv2\n",
        "from tensorflow.keras.preprocessing.image import ImageDataGenerator\n",
        "from tensorflow.keras.models import Sequential\n",
        "from tensorflow.keras.layers import Conv2D, MaxPool2D, Flatten, Dense, Dropout, BatchNormalization, InputLayer\n",
        "from tensorflow.keras.regularizers import l2\n",
        "from tensorflow.keras.callbacks import EarlyStopping\n",
        "from sklearn.metrics import confusion_matrix\n",
        "import itertools"
      ]
    },
    {
      "cell_type": "markdown",
      "metadata": {
        "id": "c2USt2JFZXIZ"
      },
      "source": [
        "## Helper Functions"
      ]
    },
    {
      "cell_type": "code",
      "execution_count": 4,
      "metadata": {
        "id": "NHR1T4aoWquh"
      },
      "outputs": [],
      "source": [
        "from re import I\n",
        "# View Image\n",
        "def view_image(image, label=None):\n",
        "    # Process image\n",
        "    image = tf.image.flip_left_right(image)\n",
        "    image = tf.image.rot90(image, k=1)\n",
        "    # Show image\n",
        "    plt.figure(figsize=(2, 2))\n",
        "    plt.imshow(image, cmap='gray')\n",
        "    if label == None:\n",
        "      pass\n",
        "    else:\n",
        "      plt.title(f'Label: {CLASSES[label]}')\n",
        "    # Remove the x and y ticks\n",
        "    plt.gca().set_xticks([])\n",
        "    plt.gca().set_yticks([])\n",
        "    # Remove the tick labels as well\n",
        "    plt.gca().set_xticklabels([])\n",
        "    plt.gca().set_yticklabels([])\n",
        "    plt.show()\n",
        "\n",
        "# Display Grid\n",
        "def display_grid(indexes, images, labels, num_cols=6):\n",
        "  num_images = len(indexes)\n",
        "  num_rows = (num_images + num_cols - 1) // num_cols\n",
        "  fig, axes = plt.subplots(num_rows, num_cols, figsize=(10, 20))\n",
        "\n",
        "  for i, index in enumerate(indexes):\n",
        "    row = i // num_cols\n",
        "    col = i % num_cols\n",
        "    image = images[index]\n",
        "    label = labels[index]\n",
        "    # Process image\n",
        "    image = tf.image.flip_left_right(image)\n",
        "    image = tf.image.rot90(image, k=1)\n",
        "    # Show image\n",
        "    axes[row, col].imshow(image, cmap='gray')\n",
        "    axes[row, col].set_title(f'Label: {CLASSES[label]}')\n",
        "    axes[row, col].axis('off')\n",
        "  plt.tight_layout()\n",
        "  plt.show();\n",
        "\n",
        "# Add Strikethrough\n",
        "def add_strikethrough(image):\n",
        "    \"\"\"\n",
        "    Adds a consistent strike-through line in one of four optional directions (horizontal, vertical, diagonal 1, diagonal 2) to the input image.\n",
        "\n",
        "    :param image: The input image as a numpy array.\n",
        "    :return: The image with a strike-through line added.\n",
        "    \"\"\"\n",
        "    height, width = image.shape[:2]\n",
        "    strikethrough_image = image.copy()\n",
        "\n",
        "    # Choose a random direction for the strike-through line\n",
        "    direction = random.choice(['horizontal', 'diagonal1']) # Optionally add 'vertical' and/or 'diagonal2'\n",
        "\n",
        "    thickness = 2\n",
        "\n",
        "    if direction == 'vertical':\n",
        "        y = height // 2\n",
        "        start_point = (0, y)\n",
        "        end_point = (width, y)\n",
        "    elif direction == 'horizontal':\n",
        "        x = width // 2\n",
        "        start_point = (x, 0)\n",
        "        end_point = (x, height)\n",
        "    elif direction == 'diagonal1':\n",
        "        start_point = (0, height)\n",
        "        end_point = (width, 0)\n",
        "    elif direction == 'diagonal2':\n",
        "        start_point = (0, 0)\n",
        "        end_point = (width, height)\n",
        "\n",
        "\n",
        "    # Draw the line\n",
        "    cv2.line(strikethrough_image, start_point, end_point, (255,), thickness)\n",
        "\n",
        "    return strikethrough_image\n",
        "\n",
        "# Strikethrough Image Arrays\n",
        "def strikethrough_image_arrays(image_arrays, image_labels):\n",
        "    \"\"\"\n",
        "    Processes a list of image arrays, adds a consistent strike-through line to each, and returns the modified arrays.\n",
        "\n",
        "    :param image_arrays: List of input images as numpy arrays.\n",
        "    :return: Tuple of processed image arrays and labels.\n",
        "    \"\"\"\n",
        "    processed_images = []\n",
        "    processed_labels = []\n",
        "\n",
        "    reverse_strikethrough_classes = {}\n",
        "    count = 0\n",
        "    for char in STRIKETHROUGH_CLASSES:\n",
        "        reverse_strikethrough_classes[char] = len(TARGET_CLASSES) + count\n",
        "        count += 1\n",
        "\n",
        "\n",
        "    for image, label in zip(image_arrays, image_labels):\n",
        "      if CLASSES[label]+'_s' in STRIKETHROUGH_CLASSES:\n",
        "        processed_image = add_strikethrough(image)\n",
        "        processed_images.append(processed_image)\n",
        "        processed_labels.append(reverse_strikethrough_classes[CLASSES[label]+'_s'])\n",
        "\n",
        "    return processed_images, processed_labels\n",
        "\n",
        "# Plot Loss Curve\n",
        "def plot_loss_curves(history):\n",
        "  \"\"\"\n",
        "  Returns separate loss curves for training and validation metrics.\n",
        "\n",
        "  Args:\n",
        "    history: TensorFlow model History object (see: https://www.tensorflow.org/api_docs/python/tf/keras/callbacks/History)\n",
        "  \"\"\"\n",
        "  loss = history.history['loss']\n",
        "  val_loss = history.history['val_loss']\n",
        "\n",
        "  accuracy = history.history['accuracy']\n",
        "  val_accuracy = history.history['val_accuracy']\n",
        "\n",
        "  epochs = range(len(history.history['loss']))\n",
        "\n",
        "  # Plot loss\n",
        "  plt.plot(epochs, loss, label='training_loss')\n",
        "  plt.plot(epochs, val_loss, label='val_loss')\n",
        "  plt.title('Loss')\n",
        "  plt.xlabel('Epochs')\n",
        "  plt.legend()\n",
        "\n",
        "  # Plot accuracy\n",
        "  plt.figure()\n",
        "  plt.plot(epochs, accuracy, label='training_accuracy')\n",
        "  plt.plot(epochs, val_accuracy, label='val_accuracy')\n",
        "  plt.title('Accuracy')\n",
        "  plt.xlabel('Epochs')\n",
        "  plt.legend();\n",
        "\n",
        "# Make Confusion Matrix\n",
        "def make_confusion_matrix(y_true, y_pred, classes=None, figsize=(10, 10), text_size=15, norm=False, savefig=False):\n",
        "  \"\"\"Makes a labelled confusion matrix comparing predictions and ground truth labels.\n",
        "\n",
        "  If classes is passed, confusion matrix will be labelled, if not, integer class values\n",
        "  will be used.\n",
        "\n",
        "  Args:\n",
        "    y_true: Array of truth labels (must be same shape as y_pred).\n",
        "    y_pred: Array of predicted labels (must be same shape as y_true).\n",
        "    classes: Array of class labels (e.g. string form). If `None`, integer labels are used.\n",
        "    figsize: Size of output figure (default=(10, 10)).\n",
        "    text_size: Size of output figure text (default=15).\n",
        "    norm: normalize values or not (default=False).\n",
        "    savefig: save confusion matrix to file (default=False).\n",
        "\n",
        "  Returns:\n",
        "    A labelled confusion matrix plot comparing y_true and y_pred.\n",
        "\n",
        "  Example usage:\n",
        "    make_confusion_matrix(y_true=test_labels, # ground truth test labels\n",
        "                          y_pred=y_preds, # predicted labels\n",
        "                          classes=class_names, # array of class label names\n",
        "                          figsize=(15, 15),\n",
        "                          text_size=10)\n",
        "  \"\"\"\n",
        "  # Create the confustion matrix\n",
        "  cm = confusion_matrix(y_true, y_pred)\n",
        "  cm_norm = cm.astype(\"float\") / cm.sum(axis=1)[:, np.newaxis] # normalize it\n",
        "  n_classes = cm.shape[0] # find the number of classes we're dealing with\n",
        "\n",
        "  # Plot the figure and make it pretty\n",
        "  fig, ax = plt.subplots(figsize=figsize)\n",
        "  cax = ax.matshow(cm, cmap=plt.cm.Blues) # colors will represent how 'correct' a class is, darker == better\n",
        "  fig.colorbar(cax)\n",
        "\n",
        "  # Are there a list of classes?\n",
        "  if classes:\n",
        "    labels = classes\n",
        "  else:\n",
        "    labels = np.arange(cm.shape[0])\n",
        "\n",
        "  # Label the axes\n",
        "  ax.set(title=\"Confusion Matrix\",\n",
        "         xlabel=\"Predicted label\",\n",
        "         ylabel=\"True label\",\n",
        "         xticks=np.arange(n_classes), # create enough axis slots for each class\n",
        "         yticks=np.arange(n_classes),\n",
        "         xticklabels=labels, # axes will labeled with class names (if they exist) or ints\n",
        "         yticklabels=labels)\n",
        "\n",
        "  # Make x-axis labels appear on bottom\n",
        "  ax.xaxis.set_label_position(\"bottom\")\n",
        "  ax.xaxis.tick_bottom()\n",
        "\n",
        "  # Set the threshold for different colors\n",
        "  threshold = (cm.max() + cm.min()) / 2.\n",
        "\n",
        "  # Plot the text on each cell\n",
        "  for i, j in itertools.product(range(cm.shape[0]), range(cm.shape[1])):\n",
        "    if norm:\n",
        "      plt.text(j, i, f\"{cm[i, j]} ({cm_norm[i, j]*100:.1f}%)\",\n",
        "              horizontalalignment=\"center\",\n",
        "              color=\"white\" if cm[i, j] > threshold else \"black\",\n",
        "              size=text_size)\n",
        "    else:\n",
        "      plt.text(j, i, f\"{cm[i, j]}\",\n",
        "              horizontalalignment=\"center\",\n",
        "              color=\"white\" if cm[i, j] > threshold else \"black\",\n",
        "              size=text_size)\n",
        "\n",
        "  # Save the figure to the current working directory\n",
        "  if savefig:\n",
        "    fig.savefig(\"confusion_matrix.png\")\n",
        "\n",
        "\n",
        "# Test Image\n",
        "def test_image(model, image, label=None, testset=False):\n",
        "  if testset == False:\n",
        "    # Process image\n",
        "    image = np.expand_dims(image, axis=2)\n",
        "    image = tf.image.flip_left_right(image)\n",
        "    image = tf.image.rot90(image, k=1)\n",
        "    image = tf.image.resize(image, (28, 28))\n",
        "    image = image / 255.0\n",
        "  # Reshape image\n",
        "  image = np.expand_dims(image, axis=0)\n",
        "  # Get prediction\n",
        "  prediction = model.predict(image)\n",
        "  # Get index with highest probability\n",
        "  predicted_index = np.argmax(prediction)\n",
        "  # Get prediction probability\n",
        "  predicted_probability = prediction[0][predicted_index]\n",
        "  # Show image\n",
        "  plt.figure(figsize=(2, 2))\n",
        "  plt.imshow(image[0], cmap='gray')\n",
        "  if label == None:\n",
        "    plt.title(f'Predicted Label: {CLASSES[predicted_index]} ({predicted_probability:.2f})')\n",
        "  else:\n",
        "    plt.title(f'Actual Label: {CLASSES[label]} Predicted Label: {CLASSES[predicted_index]} ({predicted_probability:.2f})')\n",
        "  # Remove the x and y ticks\n",
        "  plt.gca().set_xticks([])\n",
        "  plt.gca().set_yticks([])\n",
        "  # Remove the tick labels as well\n",
        "  plt.gca().set_xticklabels([])\n",
        "  plt.gca().set_yticklabels([])\n",
        "  plt.show()"
      ]
    },
    {
      "cell_type": "markdown",
      "metadata": {
        "id": "VNpU9INGWqxW"
      },
      "source": [
        "# 2. Load Data\n",
        "* Download EMNIST\n",
        "* Check Data Source and Sample Image"
      ]
    },
    {
      "cell_type": "code",
      "execution_count": 5,
      "metadata": {
        "colab": {
          "base_uri": "https://localhost:8080/"
        },
        "id": "YV44T9AL38cc",
        "outputId": "43e86f16-66bf-4678-c7f9-597da9938d56"
      },
      "outputs": [
        {
          "output_type": "execute_result",
          "data": {
            "text/plain": [
              "tfds.core.DatasetInfo(\n",
              "    name='emnist',\n",
              "    full_name='emnist/byclass/3.1.0',\n",
              "    description=\"\"\"\n",
              "    The EMNIST dataset is a set of handwritten character digits derived from the NIST Special Database 19 and converted to a 28x28 pixel image format and dataset structure that directly matches the MNIST dataset.\n",
              "    \n",
              "    Note: Like the original EMNIST data, images provided here are inverted horizontally and rotated 90 anti-clockwise. You can use `tf.transpose` within `ds.map` to convert the images to a human-friendlier format.\n",
              "    \"\"\",\n",
              "    config_description=\"\"\"\n",
              "    EMNIST ByClass\n",
              "    \"\"\",\n",
              "    homepage='https://www.nist.gov/itl/products-and-services/emnist-dataset',\n",
              "    data_dir=PosixGPath('/tmp/tmpqgjdlelutfds'),\n",
              "    file_format=array_record,\n",
              "    download_size=535.73 MiB,\n",
              "    dataset_size=349.16 MiB,\n",
              "    features=FeaturesDict({\n",
              "        'image': Image(shape=(28, 28, 1), dtype=uint8),\n",
              "        'label': ClassLabel(shape=(), dtype=int64, num_classes=62),\n",
              "    }),\n",
              "    supervised_keys=('image', 'label'),\n",
              "    disable_shuffling=False,\n",
              "    splits={\n",
              "        'test': <SplitInfo num_examples=116323, num_shards=1>,\n",
              "        'train': <SplitInfo num_examples=697932, num_shards=4>,\n",
              "    },\n",
              "    citation=\"\"\"@article{cohen_afshar_tapson_schaik_2017,\n",
              "        title={EMNIST: Extending MNIST to handwritten letters},\n",
              "        DOI={10.1109/ijcnn.2017.7966217},\n",
              "        journal={2017 International Joint Conference on Neural Networks (IJCNN)},\n",
              "        author={Cohen, Gregory and Afshar, Saeed and Tapson, Jonathan and Schaik, Andre Van},\n",
              "        year={2017}\n",
              "    }\"\"\",\n",
              ")"
            ]
          },
          "metadata": {},
          "execution_count": 5
        }
      ],
      "source": [
        "builder = tfds.builder(EMNIST_PATH)\n",
        "builder.info"
      ]
    },
    {
      "cell_type": "code",
      "execution_count": 6,
      "metadata": {
        "id": "iKDpFdcv38uK",
        "colab": {
          "base_uri": "https://localhost:8080/",
          "height": 0,
          "referenced_widgets": [
            "70e2a5303ef14831b99717b3cac57308",
            "5fd18979dd984b86b9715973fc014372",
            "bb02f6d1a15a4ac1b03f47ceb9dea3cd",
            "1f33256463bb4d369cfef15f06bb3d22",
            "5d01d90259264bb087a64fbc3e36edcf",
            "8876c7aa7b7040908cc8532d7ba888f9",
            "b6a5ddda67704e288f93832a68b5f6b2",
            "33631b277e7d418a8a6ad0509fb3408f",
            "7bc7136528bb47e5aa229df64b7e1cce",
            "ce7ed618166d4f07978bf69aa04611ee",
            "4fb8c327989c45f58f68685ce0763662",
            "0f6c09d239254f73b2d0a19f4104ef8e",
            "3122634f80654e79bddd7eda289f43d1",
            "0d43ac01b442406687330921174c5dd7",
            "9c051bccc18745ffaa74109886e62f28",
            "dcb77dbae44a4c77a987ec58379e8939",
            "bf78e737e08145e2932cbc77702815a8",
            "0800731642c14cb38a0b38af18f558da",
            "7a31d8405c6a41f0a192d2a7e5280c8c",
            "995e69ba73fa4c6390f16f21b924e20a",
            "850ac3a5a2464e968b3071e23932c74d",
            "9a153cbd0aad4e9caf523f353ed4dde0",
            "2c03c4de162549c19058176552f650c3",
            "91be63345b9647049794f3faeaa114f0",
            "28cd6bfe1f3a4f7696e3316d36a0f865",
            "ef08afd9014f491093db6a12bd22c909",
            "cf02f674d7e44364931a93ab4c6ff86b",
            "fcb96a75262f4a579d9984d82e85a7f5",
            "e8ec93ad90fe487cad764eb0e49bea31",
            "3ee7dab86c894f09a916c5a4a72583b0",
            "11ae6b8f5e234575b2e52336ae863385",
            "df3c0c93ae144f0ba63d020e1bb7061f",
            "8fbcf6c694824680964df4bc86687d5a",
            "2bbbca3eeb3b42a98b9a44b3fcc27100",
            "48e70ad155704b4e87951fb05744f32e",
            "4681fc8c16cc46da80ca4b8d12461e57",
            "d804698ce27147ba8ee19da5ebdfade0",
            "a4a71c220d1e40418a36601893dfcbf3",
            "3c2ef4c393604b4b90bc203e734ac1d7",
            "d3becc2cc7f54b2c9f1b94d7cd43c093",
            "384bd3ac1d8544b6b494acd0d5c35fa4",
            "9f6172db537c4335a2ad83b47d5720aa",
            "6adff42f8b4742d9933190272cc2a8cb",
            "ed2cc1b6d8c84d18b460fe37d3fe4b20",
            "394e2fa7b23645cab3b1100a408e432e",
            "703cd1ea49bd455c91de9a65dc0f8353",
            "1ac394761b9f4621a5c7cfdaf41e5aeb",
            "6677d498541a47c09939b2a7e2dc5bc3",
            "4e6a1d648baf416aa4183c8ddb0a9046",
            "95f39c8f6bcd48bb87e917d312951413",
            "96ce4101d0794236a8f657346d0f6e70",
            "4ecb1dc72e134882bde73b4986c919f5",
            "9e6e1fe88067415b8a62b15c146621c8",
            "3c7ba5686b214d149ed332ed2e208404",
            "9ae667b017924539899c0126ab49b99f",
            "4068d6e39d8b4ca98670ee84bd632af7",
            "e927903d0ac54c3dafa369b56956f9b6",
            "742cbe4c42584342b07cb4f4096c0f5e",
            "0f1514bf23844692ba9189e7d6fd8fb4",
            "42c06cbc466049e4829ee7e3dfae1bf5",
            "aed3c00cc9534654af3f0d2da39d353e",
            "23d36e4041124679be29aed27973c8da",
            "9f031e878e874d658c946d9455e7e80a",
            "c0483227171e49d9989712d2eca2d3cb",
            "ab6adc9ed1b447e48394586fd9251ee9",
            "2a667ccd5c0b45e281b4708b5a5c0ced",
            "b6273b0813754b359d183d300d665273",
            "295c1ad592e24b7d89c3ded505493a06",
            "19bcd8fc8edf4c669764d37ef541b66c",
            "190b6bc9dc304a2789852c4e93fbc898",
            "f4fcb37fb1ab4af09d0d774c5e628f3d",
            "72b379ee0d464e6bb504c9be5ecf6b8a",
            "a020f7a4cd7640bfa57ec2ddc2251ea6",
            "1449ba3106ed4c059dd37de3d6fa58d0",
            "82439edee9e442e799c88501eb562402",
            "1b82b0891be6436d93fed4be23d0a908",
            "8474290ced084acaa71333ed70a9e79a",
            "6f3a88fb8e3540348215934546e7ba0d",
            "2ee213fcadf54de9ab6f281e515afe2a",
            "4a5271c909b540fa8613506450268795",
            "10e2dac61d8c4854b8c26183813ab4b2",
            "116a4e57f3b2404fbd92af39a73f754c",
            "8a8dc9dc974644a89b02675fad6130d2",
            "82a31e4a3a124ea1964542b97db6a45e",
            "e70d69001e36447a828737ac001e84d1",
            "494d2caae1da43abbb673f0c71ec8ba6",
            "c44246f150574cf4854467316ca4c4b2",
            "77306a0dc094452ba3c0767cb1197e48",
            "3c416d7a3889462699e5ddbfd6251c16",
            "b1f651265f8f4709b9758b6ec9bb0241",
            "82c06e94fdc04a5fa05ad0d98d73e5dd",
            "536923e63c314a11a2bceffc33704f6c",
            "b77ee9d0a37b4155b508f856cd8edaf9",
            "65a8de68f637402aba3b98b99dfc0815",
            "bb56684c5267492ab5210c9db42b66a3",
            "f71efa14b4a641e0baf8f0a6e4988cdd",
            "a885d65dc79041e1b6fbb3d89426a0fd",
            "c102d5684458461c82fd1b9e61c81812",
            "a165e587798f492a84b81e351a6254fb"
          ]
        },
        "outputId": "bc9fb2e0-2e7c-4d8c-896c-bb479b957fe9"
      },
      "outputs": [
        {
          "output_type": "stream",
          "name": "stdout",
          "text": [
            "Downloading and preparing dataset 535.73 MiB (download: 535.73 MiB, generated: 349.16 MiB, total: 884.89 MiB) to /root/tensorflow_datasets/emnist/byclass/3.1.0...\n"
          ]
        },
        {
          "output_type": "display_data",
          "data": {
            "text/plain": [
              "Dl Completed...: 0 url [00:00, ? url/s]"
            ],
            "application/vnd.jupyter.widget-view+json": {
              "version_major": 2,
              "version_minor": 0,
              "model_id": "70e2a5303ef14831b99717b3cac57308"
            }
          },
          "metadata": {}
        },
        {
          "output_type": "display_data",
          "data": {
            "text/plain": [
              "Dl Size...: 0 MiB [00:00, ? MiB/s]"
            ],
            "application/vnd.jupyter.widget-view+json": {
              "version_major": 2,
              "version_minor": 0,
              "model_id": "0f6c09d239254f73b2d0a19f4104ef8e"
            }
          },
          "metadata": {}
        },
        {
          "output_type": "display_data",
          "data": {
            "text/plain": [
              "Extraction completed...: 0 file [00:00, ? file/s]"
            ],
            "application/vnd.jupyter.widget-view+json": {
              "version_major": 2,
              "version_minor": 0,
              "model_id": "2c03c4de162549c19058176552f650c3"
            }
          },
          "metadata": {}
        },
        {
          "output_type": "display_data",
          "data": {
            "text/plain": [
              "Extraction completed...: 0 file [00:00, ? file/s]"
            ],
            "application/vnd.jupyter.widget-view+json": {
              "version_major": 2,
              "version_minor": 0,
              "model_id": "2bbbca3eeb3b42a98b9a44b3fcc27100"
            }
          },
          "metadata": {}
        },
        {
          "output_type": "display_data",
          "data": {
            "text/plain": [
              "Generating splits...:   0%|          | 0/2 [00:00<?, ? splits/s]"
            ],
            "application/vnd.jupyter.widget-view+json": {
              "version_major": 2,
              "version_minor": 0,
              "model_id": "394e2fa7b23645cab3b1100a408e432e"
            }
          },
          "metadata": {}
        },
        {
          "output_type": "display_data",
          "data": {
            "text/plain": [
              "Generating train examples...:   0%|          | 0/697932 [00:00<?, ? examples/s]"
            ],
            "application/vnd.jupyter.widget-view+json": {
              "version_major": 2,
              "version_minor": 0,
              "model_id": "4068d6e39d8b4ca98670ee84bd632af7"
            }
          },
          "metadata": {}
        },
        {
          "output_type": "display_data",
          "data": {
            "text/plain": [
              "Shuffling /root/tensorflow_datasets/emnist/byclass/incomplete.XOS1G6_3.1.0/emnist-train.array_record*...:   0%…"
            ],
            "application/vnd.jupyter.widget-view+json": {
              "version_major": 2,
              "version_minor": 0,
              "model_id": "b6273b0813754b359d183d300d665273"
            }
          },
          "metadata": {}
        },
        {
          "output_type": "display_data",
          "data": {
            "text/plain": [
              "Generating test examples...:   0%|          | 0/116323 [00:00<?, ? examples/s]"
            ],
            "application/vnd.jupyter.widget-view+json": {
              "version_major": 2,
              "version_minor": 0,
              "model_id": "6f3a88fb8e3540348215934546e7ba0d"
            }
          },
          "metadata": {}
        },
        {
          "output_type": "display_data",
          "data": {
            "text/plain": [
              "Shuffling /root/tensorflow_datasets/emnist/byclass/incomplete.XOS1G6_3.1.0/emnist-test.array_record*...:   0%|…"
            ],
            "application/vnd.jupyter.widget-view+json": {
              "version_major": 2,
              "version_minor": 0,
              "model_id": "3c416d7a3889462699e5ddbfd6251c16"
            }
          },
          "metadata": {}
        },
        {
          "output_type": "stream",
          "name": "stdout",
          "text": [
            "Dataset emnist downloaded and prepared to /root/tensorflow_datasets/emnist/byclass/3.1.0. Subsequent calls will reuse this data.\n"
          ]
        }
      ],
      "source": [
        "builder.download_and_prepare()\n",
        "emnist = builder.as_data_source()"
      ]
    },
    {
      "cell_type": "code",
      "execution_count": 7,
      "metadata": {
        "id": "tNNgkjMsWq21",
        "colab": {
          "base_uri": "https://localhost:8080/"
        },
        "outputId": "683cc593-eb48-4d5e-af2f-b8cc4f074365"
      },
      "outputs": [
        {
          "output_type": "stream",
          "name": "stdout",
          "text": [
            "ArrayRecordDataSource(name=emnist, split=Split('train'), decoders=None)\n",
            "ArrayRecordDataSource(name=emnist, split=Split('test'), decoders=None)\n",
            "Training Length: 697932\n",
            "Test Length: 116323\n"
          ]
        }
      ],
      "source": [
        "# Check Data\n",
        "print(emnist['train'])\n",
        "print(emnist['test'])\n",
        "print(f'Training Length: {len(emnist[\"train\"])}')\n",
        "print(f'Test Length: {len(emnist[\"test\"])}')"
      ]
    },
    {
      "cell_type": "code",
      "execution_count": 8,
      "metadata": {
        "id": "E2u2IQhwvt7C",
        "colab": {
          "base_uri": "https://localhost:8080/",
          "height": 0
        },
        "outputId": "bb2fa5f2-62c6-4465-f788-f55e486a623d"
      },
      "outputs": [
        {
          "output_type": "display_data",
          "data": {
            "text/plain": [
              "<Figure size 200x200 with 1 Axes>"
            ],
            "image/png": "[encoded data removed]"
          },
          "metadata": {}
        }
      ],
      "source": [
        "# Check Random Sample Image\n",
        "random_index = random.randint(0,len(emnist[\"train\"]))\n",
        "random_sample = emnist['train'][random_index]\n",
        "random_image = random_sample['image']\n",
        "random_label = random_sample['label']\n",
        "try:\n",
        "  random_label = ORIGINAL_TO_NEW[random_label]\n",
        "except:\n",
        "  # Not part of our character set\n",
        "  random_label = None\n",
        "view_image(random_image, random_label)"
      ]
    },
    {
      "cell_type": "markdown",
      "metadata": {
        "id": "t05x_6fNWq5G"
      },
      "source": [
        "# 3. Pre-process Data\n",
        "* Filter by Target Characters\n",
        "* Create Strikethrough Images\n",
        "* Combine Data\n",
        "* One Hot Encode Labels\n",
        "* Normalize Images\n",
        "* Create Dataset for Training\n",
        "* Create Augmented Dataset for Training"
      ]
    },
    {
      "cell_type": "markdown",
      "metadata": {
        "id": "8kXf1mUpeppp"
      },
      "source": [
        "## Filter Data"
      ]
    },
    {
      "cell_type": "code",
      "execution_count": 9,
      "metadata": {
        "id": "0ZrfbQDXz5ZZ"
      },
      "outputs": [],
      "source": [
        "# Manually Filter Dataset\n",
        "filtered_train_images = []\n",
        "filtered_train_labels = []\n",
        "filtered_test_images = []\n",
        "filtered_test_labels = []\n",
        "\n",
        "for sample in emnist['train']:\n",
        "  image = sample['image']\n",
        "  label = sample['label']\n",
        "  if label in ORIGINAL_LABELS:\n",
        "      filtered_train_images.append(image)\n",
        "      filtered_train_labels.append(ORIGINAL_TO_NEW[label])\n",
        "\n",
        "for sample in emnist['test']:\n",
        "  image = sample['image']\n",
        "  label = sample['label']\n",
        "  if label in ORIGINAL_LABELS:\n",
        "      filtered_test_images.append(image)\n",
        "      filtered_test_labels.append(ORIGINAL_TO_NEW[label])"
      ]
    },
    {
      "cell_type": "code",
      "execution_count": 10,
      "metadata": {
        "id": "1KDkEvSMvylz",
        "colab": {
          "base_uri": "https://localhost:8080/",
          "height": 0
        },
        "outputId": "e0aaaa89-b98d-434e-b014-1a755ce158b4"
      },
      "outputs": [
        {
          "output_type": "display_data",
          "data": {
            "text/plain": [
              "<Figure size 200x200 with 1 Axes>"
            ],
            "image/png": "[encoded data removed]"
          },
          "metadata": {}
        }
      ],
      "source": [
        "# Check Random Sample Image\n",
        "random_index = random.randint(0,len(filtered_train_images))\n",
        "random_image = filtered_train_images[random_index]\n",
        "random_label = filtered_train_labels[random_index]\n",
        "view_image(random_image, random_label)"
      ]
    },
    {
      "cell_type": "markdown",
      "metadata": {
        "id": "gg5_lDZpeuA9"
      },
      "source": [
        "## Create Strikethrough Data"
      ]
    },
    {
      "cell_type": "code",
      "execution_count": 11,
      "metadata": {
        "id": "fUWSIMa-XwwG"
      },
      "outputs": [],
      "source": [
        "# Create Strikthrough Data\n",
        "if STRIKETHROUGH_ON:\n",
        "  # Create Strikethrough Images and Labels\n",
        "  strikethrough_train_images, strikethrough_train_labels = strikethrough_image_arrays(filtered_train_images, filtered_train_labels)\n",
        "  strikethrough_test_images, strikethrough_test_labels = strikethrough_image_arrays(filtered_test_images, filtered_test_labels)"
      ]
    },
    {
      "cell_type": "code",
      "execution_count": 12,
      "metadata": {
        "id": "j5Fls4YCXzDD",
        "colab": {
          "base_uri": "https://localhost:8080/"
        },
        "outputId": "ac5a6526-316f-44ad-fee6-ee1c9715e13a"
      },
      "outputs": [
        {
          "output_type": "execute_result",
          "data": {
            "text/plain": [
              "(445653, 445653, 74758, 74758)"
            ]
          },
          "metadata": {},
          "execution_count": 12
        }
      ],
      "source": [
        "# Combine Target and Strikethrough Data\n",
        "if STRIKETHROUGH_ON:\n",
        "  train_images = filtered_train_images + strikethrough_train_images\n",
        "  train_labels = filtered_train_labels + strikethrough_train_labels\n",
        "  test_images = filtered_test_images + strikethrough_test_images\n",
        "  test_labels = filtered_test_labels + strikethrough_test_labels\n",
        "else:\n",
        "  # Target Data\n",
        "  train_images = filtered_train_images\n",
        "  train_labels = filtered_train_labels\n",
        "  test_images = filtered_test_images\n",
        "  test_labels = filtered_test_labels\n",
        "\n",
        "# Check sizes\n",
        "len(train_images), len(train_labels), len(test_images), len(test_labels)"
      ]
    },
    {
      "cell_type": "markdown",
      "metadata": {
        "id": "S91K-yuBDYaE"
      },
      "source": [
        "## Data Augmentation"
      ]
    },
    {
      "cell_type": "code",
      "execution_count": 13,
      "metadata": {
        "id": "GXem_ePrEggR"
      },
      "outputs": [],
      "source": [
        "# Normalize Images\n",
        "train_images = np.array(train_images) / 255.0\n",
        "test_images = np.array(test_images) / 255.0"
      ]
    },
    {
      "cell_type": "code",
      "execution_count": 14,
      "metadata": {
        "id": "hZAHluVuawFo"
      },
      "outputs": [],
      "source": [
        "# ImageDataGenerator for Augmentation\n",
        "datagen = ImageDataGenerator(rotation_range=10,\n",
        "                             width_shift_range=0.1,\n",
        "                             height_shift_range=0.1,\n",
        "                             shear_range=5,\n",
        "                             zoom_range=0.1,\n",
        "                             fill_mode='constant',\n",
        "                             cval=0)\n",
        "\n",
        "# Fit datagen\n",
        "datagen.fit(train_images)\n",
        "\n",
        "# Genereate augmented images\n",
        "augmented_train_images, augmented_train_labels = next(datagen.flow(train_images, train_labels, batch_size=len(train_images)))"
      ]
    },
    {
      "cell_type": "code",
      "execution_count": 15,
      "metadata": {
        "id": "eVVn-FpyDfk-",
        "colab": {
          "base_uri": "https://localhost:8080/",
          "height": 0
        },
        "outputId": "4b3fe32e-2c94-492b-f155-dcd6520eef18"
      },
      "outputs": [
        {
          "output_type": "display_data",
          "data": {
            "text/plain": [
              "<Figure size 200x200 with 1 Axes>"
            ],
            "image/png": "[encoded data removed]"
          },
          "metadata": {}
        }
      ],
      "source": [
        "# Check Random Sample Image\n",
        "random_index = random.randint(0,len(train_images))\n",
        "random_image = train_images[random_index]\n",
        "random_label = train_labels[random_index]\n",
        "view_image(random_image, random_label)"
      ]
    },
    {
      "cell_type": "code",
      "execution_count": 16,
      "metadata": {
        "id": "Xb7mFUUVbKSI",
        "colab": {
          "base_uri": "https://localhost:8080/",
          "height": 0
        },
        "outputId": "c1c38d82-bf9f-4f37-fd64-5e9fa0686995"
      },
      "outputs": [
        {
          "output_type": "display_data",
          "data": {
            "text/plain": [
              "<Figure size 200x200 with 1 Axes>"
            ],
            "image/png": "[encoded data removed]"
          },
          "metadata": {}
        }
      ],
      "source": [
        "# Check Random Augmented Sample Image\n",
        "random_index = random.randint(0,len(augmented_train_images))\n",
        "random_image = augmented_train_images[random_index]\n",
        "random_label = augmented_train_labels[random_index]\n",
        "view_image(random_image, random_label)"
      ]
    },
    {
      "cell_type": "markdown",
      "metadata": {
        "id": "VQ9G6kAjexPG"
      },
      "source": [
        "## One Hot Encode Labels"
      ]
    },
    {
      "cell_type": "code",
      "execution_count": 17,
      "metadata": {
        "id": "hlhhvxp7X1hX"
      },
      "outputs": [],
      "source": [
        "# One Hot Encode Labels\n",
        "import numpy as np\n",
        "from sklearn.preprocessing import OneHotEncoder\n",
        "\n",
        "# Reshape Labels to Numpy Arrays\n",
        "reshaped_train_labels = np.array(train_labels).reshape(-1, 1)\n",
        "reshaped_test_labels = np.array(test_labels).reshape(-1, 1)\n",
        "reshaped_augmented_train_labels = np.array(augmented_train_labels).reshape(-1, 1)\n",
        "\n",
        "# Initialize OneHotEncoder\n",
        "encoder = OneHotEncoder(sparse_output=False)\n",
        "augmented_encoder = OneHotEncoder(sparse_output=False)\n",
        "\n",
        "# Fit and Transform Labels\n",
        "one_hot_train_labels = encoder.fit_transform(reshaped_train_labels)\n",
        "one_hot_test_labels = encoder.transform(reshaped_test_labels)\n",
        "one_hot_augmented_train_labels = augmented_encoder.fit_transform(reshaped_augmented_train_labels)"
      ]
    },
    {
      "cell_type": "code",
      "execution_count": 18,
      "metadata": {
        "id": "0g7ay4TybWSg",
        "colab": {
          "base_uri": "https://localhost:8080/"
        },
        "outputId": "b988992b-b642-44d1-a6d4-acb18895e93d"
      },
      "outputs": [
        {
          "output_type": "stream",
          "name": "stdout",
          "text": [
            "<_PrefetchDataset element_spec=(TensorSpec(shape=(None, 28, 28, 1), dtype=tf.float64, name=None), TensorSpec(shape=(None, 17), dtype=tf.float64, name=None))>\n",
            "<_PrefetchDataset element_spec=(TensorSpec(shape=(None, 28, 28, 1), dtype=tf.float64, name=None), TensorSpec(shape=(None, 17), dtype=tf.float64, name=None))>\n",
            "<_PrefetchDataset element_spec=(TensorSpec(shape=(None, 28, 28, 1), dtype=tf.float32, name=None), TensorSpec(shape=(None, 17), dtype=tf.float64, name=None))>\n"
          ]
        }
      ],
      "source": [
        "# Dataset Constants\n",
        "BATCH_SIZE = 32\n",
        "AUTOTUNE = tf.data.experimental.AUTOTUNE\n",
        "\n",
        "# Create dataset, batch, prefetch, and autotune\n",
        "train_ds = tf.data.Dataset.from_tensor_slices((train_images, one_hot_train_labels)).shuffle(10000).batch(BATCH_SIZE).prefetch(buffer_size=AUTOTUNE)\n",
        "test_ds = tf.data.Dataset.from_tensor_slices((test_images, one_hot_test_labels)).batch(BATCH_SIZE).prefetch(buffer_size=AUTOTUNE)\n",
        "augmented_train_ds = tf.data.Dataset.from_tensor_slices((augmented_train_images, one_hot_augmented_train_labels)).shuffle(10000).batch(BATCH_SIZE).prefetch(buffer_size=AUTOTUNE)\n",
        "\n",
        "# Check datasets\n",
        "print(train_ds)\n",
        "print(test_ds)\n",
        "print(augmented_train_ds)"
      ]
    },
    {
      "cell_type": "markdown",
      "metadata": {
        "id": "Tf15SQg8ey0Z"
      },
      "source": [
        "# 4. View Samples\n",
        "\n",
        "* Display Sample Grid"
      ]
    },
    {
      "cell_type": "code",
      "execution_count": 19,
      "metadata": {
        "id": "PzhlOgtIJTJj",
        "colab": {
          "base_uri": "https://localhost:8080/",
          "height": 1000
        },
        "outputId": "cb535109-88d2-4ab9-9e6b-7a6414165e72"
      },
      "outputs": [
        {
          "output_type": "display_data",
          "data": {
            "text/plain": [
              "<Figure size 1000x2000 with 51 Axes>"
            ],
            "image/png": "[encoded data removed]"
          },
          "metadata": {}
        }
      ],
      "source": [
        "# Gather Samples Images and Indexes\n",
        "indexes = []\n",
        "for char in CLASSES:\n",
        "  count = 0\n",
        "  index = 0\n",
        "  for label in train_labels:\n",
        "    if CLASSES[label] == char:\n",
        "      indexes.append(index)\n",
        "      count += 1\n",
        "      if count == 3:\n",
        "        break\n",
        "    index += 1\n",
        "\n",
        "# Display Sample Grid\n",
        "display_grid(indexes, train_images, train_labels, num_cols=3)"
      ]
    },
    {
      "cell_type": "markdown",
      "metadata": {
        "id": "0slRMWwNPSFZ"
      },
      "source": [
        "# 5. Model Experiments"
      ]
    },
    {
      "cell_type": "code",
      "execution_count": 20,
      "metadata": {
        "id": "1frvKy18igoE"
      },
      "outputs": [],
      "source": [
        "# Define constants\n",
        "INPUT_SIZE = (28, 28, 1)\n",
        "EPOCHS = 15\n",
        "LEARNING_RATE = 0.001"
      ]
    },
    {
      "cell_type": "markdown",
      "metadata": {
        "id": "BDi8YR6MdF0d"
      },
      "source": [
        "## Model 0: Baseline"
      ]
    },
    {
      "cell_type": "code",
      "execution_count": 21,
      "metadata": {
        "id": "2wNmDSgmbNFL",
        "colab": {
          "base_uri": "https://localhost:8080/"
        },
        "outputId": "b7418850-149a-4fcd-cccc-7988076ff439"
      },
      "outputs": [
        {
          "output_type": "stream",
          "name": "stdout",
          "text": [
            "Epoch 1/15\n",
            "13927/13927 [==============================] - 48s 3ms/step - loss: 0.0480 - accuracy: 0.9862 - val_loss: 0.1385 - val_accuracy: 0.9496\n",
            "Epoch 2/15\n",
            "13927/13927 [==============================] - 45s 3ms/step - loss: 0.0221 - accuracy: 0.9937 - val_loss: 0.0381 - val_accuracy: 0.9886\n",
            "Epoch 3/15\n",
            "13927/13927 [==============================] - 44s 3ms/step - loss: 0.0140 - accuracy: 0.9960 - val_loss: 0.0270 - val_accuracy: 0.9930\n",
            "Epoch 4/15\n",
            "13927/13927 [==============================] - 44s 3ms/step - loss: 0.0098 - accuracy: 0.9971 - val_loss: 0.0283 - val_accuracy: 0.9934\n",
            "Epoch 5/15\n",
            "13927/13927 [==============================] - 44s 3ms/step - loss: 0.0071 - accuracy: 0.9979 - val_loss: 0.0315 - val_accuracy: 0.9935\n",
            "Epoch 6/15\n",
            "13927/13927 [==============================] - 45s 3ms/step - loss: 0.0054 - accuracy: 0.9984 - val_loss: 0.0341 - val_accuracy: 0.9935\n",
            "Epoch 7/15\n",
            "13927/13927 [==============================] - 44s 3ms/step - loss: 0.0042 - accuracy: 0.9987 - val_loss: 0.0372 - val_accuracy: 0.9936\n",
            "Epoch 8/15\n",
            "13927/13927 [==============================] - 44s 3ms/step - loss: 0.0032 - accuracy: 0.9990 - val_loss: 0.0489 - val_accuracy: 0.9933\n",
            "Epoch 9/15\n",
            "13927/13927 [==============================] - 45s 3ms/step - loss: 0.0028 - accuracy: 0.9992 - val_loss: 0.0594 - val_accuracy: 0.9929\n",
            "Epoch 10/15\n",
            "13927/13927 [==============================] - 44s 3ms/step - loss: 0.0027 - accuracy: 0.9992 - val_loss: 0.0750 - val_accuracy: 0.9917\n",
            "Epoch 11/15\n",
            "13927/13927 [==============================] - 45s 3ms/step - loss: 0.0026 - accuracy: 0.9993 - val_loss: 0.0678 - val_accuracy: 0.9924\n",
            "Epoch 12/15\n",
            "13927/13927 [==============================] - 44s 3ms/step - loss: 0.0026 - accuracy: 0.9993 - val_loss: 0.0657 - val_accuracy: 0.9929\n",
            "Epoch 13/15\n",
            "13927/13927 [==============================] - 44s 3ms/step - loss: 0.0023 - accuracy: 0.9993 - val_loss: 0.0707 - val_accuracy: 0.9930\n",
            "Epoch 14/15\n",
            "13927/13927 [==============================] - 44s 3ms/step - loss: 0.0022 - accuracy: 0.9994 - val_loss: 0.0885 - val_accuracy: 0.9931\n",
            "Epoch 15/15\n",
            "13927/13927 [==============================] - 44s 3ms/step - loss: 0.0023 - accuracy: 0.9994 - val_loss: 0.0826 - val_accuracy: 0.9933\n"
          ]
        }
      ],
      "source": [
        "if RUN_EXPERIMENTS == True:\n",
        "  # Set random seed\n",
        "  tf.random.set_seed(42)\n",
        "\n",
        "  # Create Model\n",
        "  model_0 = Sequential()\n",
        "  model_0.add(Conv2D(32, kernel_size=(3, 3), activation='relu', input_shape=INPUT_SIZE))\n",
        "  model_0.add(Conv2D(32, kernel_size=(3, 3), activation='relu'))\n",
        "  model_0.add(Flatten())\n",
        "  model_0.add(Dense(NUM_CLASSES, activation='softmax'))\n",
        "\n",
        "  # Compile Model\n",
        "  model_0.compile(optimizer=tf.keras.optimizers.Adam(learning_rate=LEARNING_RATE), loss='categorical_crossentropy', metrics=['accuracy'])\n",
        "\n",
        "  # Fit Model\n",
        "  history_0 = model_0.fit(train_ds, epochs=EPOCHS, validation_data=test_ds)"
      ]
    },
    {
      "cell_type": "code",
      "execution_count": 22,
      "metadata": {
        "id": "L4o3qQChbUib",
        "colab": {
          "base_uri": "https://localhost:8080/",
          "height": 927
        },
        "outputId": "3222e58d-cdce-4310-9e8f-ba529efe4354"
      },
      "outputs": [
        {
          "output_type": "display_data",
          "data": {
            "text/plain": [
              "<Figure size 640x480 with 1 Axes>"
            ],
            "image/png": "[encoded data removed]"
          },
          "metadata": {}
        },
        {
          "output_type": "display_data",
          "data": {
            "text/plain": [
              "<Figure size 640x480 with 1 Axes>"
            ],
            "image/png": "[encoded data removed]"
          },
          "metadata": {}
        }
      ],
      "source": [
        "if RUN_EXPERIMENTS == True:\n",
        "  # Model 0 Results\n",
        "  plot_loss_curves(history_0)"
      ]
    },
    {
      "cell_type": "markdown",
      "metadata": {
        "id": "QDIU3xkDRwXI"
      },
      "source": [
        "The Baseline training accuracy and loss curves show the model is learning correctly but the validation curve do not match, so the model is overfitting."
      ]
    },
    {
      "cell_type": "markdown",
      "metadata": {
        "id": "3MVpJkgOdTVk"
      },
      "source": [
        "## Model 1: Add Batch Normalization"
      ]
    },
    {
      "cell_type": "code",
      "execution_count": null,
      "metadata": {
        "id": "O6bi6X90bWpr",
        "colab": {
          "base_uri": "https://localhost:8080/"
        },
        "outputId": "7652fc0f-3139-4409-e959-5294727c7f4a"
      },
      "outputs": [
        {
          "output_type": "stream",
          "name": "stdout",
          "text": [
            "Epoch 1/15\n",
            "13927/13927 [==============================] - 55s 4ms/step - loss: 0.0827 - accuracy: 0.9838 - val_loss: 0.4839 - val_accuracy: 0.8118\n",
            "Epoch 2/15\n",
            "13927/13927 [==============================] - 53s 4ms/step - loss: 0.0243 - accuracy: 0.9931 - val_loss: 0.0829 - val_accuracy: 0.9715\n",
            "Epoch 3/15\n",
            "13927/13927 [==============================] - 53s 4ms/step - loss: 0.0160 - accuracy: 0.9954 - val_loss: 0.0355 - val_accuracy: 0.9901\n",
            "Epoch 4/15\n",
            "13927/13927 [==============================] - 53s 4ms/step - loss: 0.0114 - accuracy: 0.9966 - val_loss: 0.0416 - val_accuracy: 0.9892\n",
            "Epoch 5/15\n",
            "13927/13927 [==============================] - 53s 4ms/step - loss: 0.0085 - accuracy: 0.9975 - val_loss: 0.0308 - val_accuracy: 0.9937\n",
            "Epoch 6/15\n",
            "13927/13927 [==============================] - 53s 4ms/step - loss: 0.0068 - accuracy: 0.9979 - val_loss: 0.0374 - val_accuracy: 0.9925\n",
            "Epoch 7/15\n",
            "13927/13927 [==============================] - 53s 4ms/step - loss: 0.0056 - accuracy: 0.9982 - val_loss: 0.0519 - val_accuracy: 0.9900\n",
            "Epoch 8/15\n",
            "13927/13927 [==============================] - 53s 4ms/step - loss: 0.0046 - accuracy: 0.9985 - val_loss: 0.0452 - val_accuracy: 0.9927\n",
            "Epoch 9/15\n",
            "13927/13927 [==============================] - 52s 4ms/step - loss: 0.0045 - accuracy: 0.9986 - val_loss: 0.0441 - val_accuracy: 0.9931\n",
            "Epoch 10/15\n",
            "13927/13927 [==============================] - 53s 4ms/step - loss: 0.0038 - accuracy: 0.9988 - val_loss: 0.0514 - val_accuracy: 0.9922\n",
            "Epoch 11/15\n",
            "13927/13927 [==============================] - 53s 4ms/step - loss: 0.0036 - accuracy: 0.9989 - val_loss: 0.0543 - val_accuracy: 0.9929\n",
            "Epoch 12/15\n",
            "13927/13927 [==============================] - 53s 4ms/step - loss: 0.0031 - accuracy: 0.9990 - val_loss: 0.0591 - val_accuracy: 0.9934\n",
            "Epoch 13/15\n",
            " 3072/13927 [=====>........................] - ETA: 37s - loss: 0.0024 - accuracy: 0.9993"
          ]
        }
      ],
      "source": [
        "if RUN_EXPERIMENTS == True:\n",
        "  # Set random seed\n",
        "  tf.random.set_seed(42)\n",
        "\n",
        "  # Create Model\n",
        "  model_1 = Sequential()\n",
        "  model_1.add(Conv2D(32, kernel_size=(3, 3), activation='relu', input_shape=INPUT_SIZE))\n",
        "  model_1.add(BatchNormalization())\n",
        "  model_1.add(Conv2D(32, (3, 3), activation='relu'))\n",
        "  model_1.add(BatchNormalization())\n",
        "  model_1.add(Flatten())\n",
        "  model_1.add(Dense(NUM_CLASSES, activation='softmax'))\n",
        "\n",
        "  # Compile Model\n",
        "  model_1.compile(optimizer=tf.keras.optimizers.Adam(learning_rate=LEARNING_RATE), loss='categorical_crossentropy', metrics=['accuracy'])\n",
        "\n",
        "  # Fit Model\n",
        "  history_1 = model_1.fit(train_ds, epochs=EPOCHS, validation_data=test_ds)"
      ]
    },
    {
      "cell_type": "code",
      "execution_count": null,
      "metadata": {
        "id": "UmeqnUQDbh-g"
      },
      "outputs": [],
      "source": [
        "if RUN_EXPERIMENTS == True:\n",
        "  # Model 1 Results\n",
        "  plot_loss_curves(history_1)"
      ]
    },
    {
      "cell_type": "markdown",
      "metadata": {
        "id": "ujP4m-EAUON6"
      },
      "source": [
        "This shows better validaton curve but is still insufficient."
      ]
    },
    {
      "cell_type": "markdown",
      "metadata": {
        "id": "pzDzdibQdgmp"
      },
      "source": [
        "## Model 2: Add Dropout"
      ]
    },
    {
      "cell_type": "code",
      "execution_count": null,
      "metadata": {
        "id": "Y9ZTTKOUbkOl"
      },
      "outputs": [],
      "source": [
        "if RUN_EXPERIMENTS == True:\n",
        "  # Set random seed\n",
        "  tf.random.set_seed(42)\n",
        "\n",
        "  # Create Model\n",
        "  model_2 = Sequential()\n",
        "  model_2.add(Conv2D(32, kernel_size=(3, 3), activation='relu', input_shape=INPUT_SIZE))\n",
        "  model_2.add(BatchNormalization())\n",
        "  model_2.add(Dropout(0.5))\n",
        "  model_2.add(Conv2D(64, kernel_size = 3, activation='relu'))\n",
        "  model_2.add(BatchNormalization())\n",
        "  model_2.add(Dropout(0.5))\n",
        "  model_2.add(Flatten())\n",
        "  model_2.add(Dense(NUM_CLASSES, activation='softmax'))\n",
        "\n",
        "  # Compile Model\n",
        "  model_2.compile(optimizer=tf.keras.optimizers.Adam(learning_rate=LEARNING_RATE), loss='categorical_crossentropy', metrics=['accuracy'])\n",
        "\n",
        "  # Fit Model\n",
        "  history_2 = model_2.fit(train_ds, epochs=EPOCHS, validation_data=test_ds)"
      ]
    },
    {
      "cell_type": "code",
      "execution_count": null,
      "metadata": {
        "id": "jBIfXGfTbn95"
      },
      "outputs": [],
      "source": [
        "if RUN_EXPERIMENTS == True:\n",
        "  # Model 2 Results\n",
        "  plot_loss_curves(history_2)"
      ]
    },
    {
      "cell_type": "markdown",
      "metadata": {
        "id": "2I0SqJXjXdls"
      },
      "source": [
        "We're getting a better curve here. Let's add some more dropout."
      ]
    },
    {
      "cell_type": "markdown",
      "metadata": {
        "id": "83xwMNwlXiIA"
      },
      "source": [
        "## Model 3: Further Dropout"
      ]
    },
    {
      "cell_type": "code",
      "execution_count": null,
      "metadata": {
        "id": "ss2bQVkIXk3m"
      },
      "outputs": [],
      "source": [
        "if RUN_EXPERIMENTS == True:\n",
        "  # Set random seed\n",
        "  tf.random.set_seed(42)\n",
        "\n",
        "  # Create Model\n",
        "  model_3 = Sequential()\n",
        "  model_3.add(Conv2D(32, kernel_size=(3, 3), activation='relu', input_shape=INPUT_SIZE))\n",
        "  model_3.add(BatchNormalization())\n",
        "  model_3.add(Dropout(0.3))\n",
        "  model_3.add(Conv2D(64, kernel_size=(3, 3), activation='relu'))\n",
        "  model_3.add(BatchNormalization())\n",
        "  model_3.add(Dropout(0.3))\n",
        "  model_3.add(Flatten())\n",
        "  model_3.add(Dense(128, activation='relu'))\n",
        "  model_3.add(Dropout(0.5))\n",
        "  model_3.add(Dense(NUM_CLASSES, activation='softmax'))\n",
        "\n",
        "  # Compile Model\n",
        "  model_3.compile(optimizer=tf.keras.optimizers.Adam(learning_rate=LEARNING_RATE), loss='categorical_crossentropy', metrics=['accuracy'])\n",
        "\n",
        "  # Fit Model\n",
        "  history_3 = model_3.fit(train_ds, epochs=EPOCHS, validation_data=test_ds)"
      ]
    },
    {
      "cell_type": "code",
      "execution_count": null,
      "metadata": {
        "id": "kPg8FAJ5X1Pk"
      },
      "outputs": [],
      "source": [
        "if RUN_EXPERIMENTS == True:\n",
        "  # Model 3 Results\n",
        "  plot_loss_curves(history_3)"
      ]
    },
    {
      "cell_type": "markdown",
      "metadata": {
        "id": "64yder3_YCxj"
      },
      "source": [
        "This is our best yet, let's test a little more complexity."
      ]
    },
    {
      "cell_type": "markdown",
      "metadata": {
        "id": "WjwL8XPhYDLY"
      },
      "source": [
        "## Model 4: Add Complexity"
      ]
    },
    {
      "cell_type": "code",
      "execution_count": null,
      "metadata": {
        "id": "xOanjbxlYDRk"
      },
      "outputs": [],
      "source": [
        "if RUN_EXPERIMENTS == True:\n",
        "  # Set random seed\n",
        "  tf.random.set_seed(42)\n",
        "\n",
        "  # Create Model\n",
        "  model_4 = Sequential()\n",
        "  model_4.add(Conv2D(32, kernel_size=(3, 3), activation='relu', input_shape=INPUT_SIZE))\n",
        "  model_4.add(BatchNormalization())\n",
        "  model_4.add(Dropout(0.3))\n",
        "  model_4.add(Conv2D(64, kernel_size=(3, 3), activation='relu'))\n",
        "  model_4.add(BatchNormalization())\n",
        "  model_4.add(Dropout(0.3))\n",
        "  model_4.add(Conv2D(128, kernel_size=(3, 3), activation='relu'))\n",
        "  model_4.add(BatchNormalization())\n",
        "  model_4.add(Dropout(0.3))\n",
        "  model_4.add(Flatten())\n",
        "  model_4.add(Dense(128, activation='relu'))\n",
        "  model_4.add(Dropout(0.5))\n",
        "  model_4.add(Dense(NUM_CLASSES, activation='softmax'))\n",
        "\n",
        "  # Compile Model\n",
        "  model_4.compile(optimizer=tf.keras.optimizers.Adam(learning_rate=LEARNING_RATE), loss='categorical_crossentropy', metrics=['accuracy'])\n",
        "\n",
        "  # Fit Model\n",
        "  history_4 = model_4.fit(train_ds, epochs=EPOCHS, validation_data=test_ds)"
      ]
    },
    {
      "cell_type": "code",
      "execution_count": null,
      "metadata": {
        "id": "Qb9doLZAYDUm"
      },
      "outputs": [],
      "source": [
        "if RUN_EXPERIMENTS == True:\n",
        "  # Model 4 Results\n",
        "  plot_loss_curves(history_4)"
      ]
    },
    {
      "cell_type": "markdown",
      "metadata": {
        "id": "S3qXh6p1YDXw"
      },
      "source": [
        "This looks like it going well, we could potentially add some more complexity but let's try regularization first."
      ]
    },
    {
      "cell_type": "markdown",
      "metadata": {
        "id": "IyBa6addYDav"
      },
      "source": [
        "## Model 5: Add L2 Regularization"
      ]
    },
    {
      "cell_type": "code",
      "execution_count": null,
      "metadata": {
        "id": "A1zM6scNYDdV"
      },
      "outputs": [],
      "source": [
        "if RUN_EXPERIMENTS == True:\n",
        "  # Set random seed\n",
        "  tf.random.set_seed(42)\n",
        "\n",
        "  # Create Model\n",
        "  model_5 = Sequential()\n",
        "  model_5.add(Conv2D(32, kernel_size=(3, 3), activation='relu', kernel_regularizer=l2(0.0001), input_shape=INPUT_SIZE))\n",
        "  model_5.add(BatchNormalization())\n",
        "  model_5.add(Dropout(0.3))\n",
        "  model_5.add(Conv2D(64, kernel_size=(3, 3), activation='relu', kernel_regularizer=l2(0.0001)))\n",
        "  model_5.add(BatchNormalization())\n",
        "  model_5.add(Dropout(0.3))\n",
        "  model_5.add(Conv2D(128, kernel_size=(3, 3), activation='relu', kernel_regularizer=l2(0.0001)))\n",
        "  model_5.add(BatchNormalization())\n",
        "  model_5.add(Dropout(0.3))\n",
        "  model_5.add(Flatten())\n",
        "  model_5.add(Dense(128, activation='relu', kernel_regularizer=l2(0.0001)))\n",
        "  model_5.add(Dropout(0.5))\n",
        "  model_5.add(Dense(NUM_CLASSES, activation='softmax'))\n",
        "\n",
        "  # Compile Model\n",
        "  model_5.compile(optimizer=tf.keras.optimizers.Adam(learning_rate=LEARNING_RATE), loss='categorical_crossentropy', metrics=['accuracy'])\n",
        "\n",
        "  # Fit Model\n",
        "  history_5 = model_5.fit(train_ds, epochs=EPOCHS, validation_data=test_ds)"
      ]
    },
    {
      "cell_type": "code",
      "execution_count": null,
      "metadata": {
        "id": "7O3HiJ9ZYDgL"
      },
      "outputs": [],
      "source": [
        "if RUN_EXPERIMENTS == True:\n",
        "  # Model 5 Results\n",
        "  plot_loss_curves(history_5)"
      ]
    },
    {
      "cell_type": "markdown",
      "metadata": {
        "id": "uI_RRXyTYDjK"
      },
      "source": [
        "This does seem to make the validation results more erratic but the val_loss is the best yet.\n",
        "\n",
        "We'll use this for our final model and include a slower learning rate for better coverging, EarlyStopping to let our model run until it stops learning and use the Augmented Data we created earlier."
      ]
    },
    {
      "cell_type": "markdown",
      "metadata": {
        "id": "7G4UV8r3duAe"
      },
      "source": [
        "# 6. Model (Final Selection)\n",
        "\n",
        "Our final model follows the model structure of Model 5 with the following adjustments:\n",
        "* Slower Larning Rate: Reduced rate of 0.0005 so training/test coverges slower.\n",
        "* EarlyStopping: Stop training if validation loss increases.\n",
        "* Data Augmentation: Training on augmented data to mimic real world data."
      ]
    },
    {
      "cell_type": "code",
      "execution_count": null,
      "metadata": {
        "id": "SBcbHPZIfDuy"
      },
      "outputs": [],
      "source": [
        "# Set random seed\n",
        "tf.random.set_seed(42)\n",
        "\n",
        "# Create Model\n",
        "model = Sequential()\n",
        "model.add(Conv2D(32, kernel_size=(3, 3), activation='relu', kernel_regularizer=l2(0.0001), input_shape=INPUT_SIZE))\n",
        "model.add(BatchNormalization())\n",
        "model.add(Dropout(0.3))\n",
        "model.add(Conv2D(64, kernel_size=(3, 3), activation='relu', kernel_regularizer=l2(0.0001)))\n",
        "model.add(BatchNormalization())\n",
        "model.add(Dropout(0.3))\n",
        "model.add(Conv2D(128, kernel_size=(3, 3), activation='relu', kernel_regularizer=l2(0.0001)))\n",
        "model.add(BatchNormalization())\n",
        "model.add(Dropout(0.3))\n",
        "model.add(Flatten())\n",
        "model.add(Dense(128, activation='relu', kernel_regularizer=l2(0.0001)))\n",
        "model.add(Dropout(0.5))\n",
        "model.add(Dense(NUM_CLASSES, activation='softmax'))\n",
        "\n",
        "# Compile Model\n",
        "model.compile(optimizer=tf.keras.optimizers.Adam(learning_rate=0.0005), loss='categorical_crossentropy', metrics=['accuracy'])\n",
        "\n",
        "# Add Early Stopping\n",
        "early_stopping = EarlyStopping(monitor='val_loss', patience=10, restore_best_weights=True)\n",
        "\n",
        "# Fit Model\n",
        "history = model.fit(augmented_train_ds, epochs=50, validation_data=test_ds, callbacks=[early_stopping])"
      ]
    },
    {
      "cell_type": "markdown",
      "metadata": {
        "id": "nLATrj6Hb4hM"
      },
      "source": [
        "# 7. Results"
      ]
    },
    {
      "cell_type": "code",
      "execution_count": null,
      "metadata": {
        "id": "TYZmp5XPlv08"
      },
      "outputs": [],
      "source": [
        "# Make Predictions vs True Labels\n",
        "y_preds = model.predict(test_images)\n",
        "y_preds = np.argmax(y_preds, axis=1)\n",
        "y_true = [np.argmax(label) for label in one_hot_test_labels]"
      ]
    },
    {
      "cell_type": "code",
      "execution_count": null,
      "metadata": {
        "id": "Ur7k4OzcooxL"
      },
      "outputs": [],
      "source": [
        "## Accuracy/Loss Curves\n",
        "plot_loss_curves(history)"
      ]
    },
    {
      "cell_type": "code",
      "execution_count": null,
      "metadata": {
        "id": "CY23pcrloo1T"
      },
      "outputs": [],
      "source": [
        "# Confusion Matrix\n",
        "make_confusion_matrix(y_true=y_true, y_pred=y_preds, classes=CLASSES, figsize=(15, 15), text_size=10)"
      ]
    }
  ],
  "metadata": {
    "accelerator": "GPU",
    "colab": {
      "collapsed_sections": [
        "Mzg5RZa2WqWB",
        "VNpU9INGWqxW",
        "t05x_6fNWq5G"
      ],
      "gpuType": "L4",
      "toc_visible": true,
      "provenance": [],
      "machine_shape": "hm",
      "authorship_tag": "ABX9TyONlhinNhuuxl4tvwCc0lfZ",
      "include_colab_link": true
    },
    "kernelspec": {
      "display_name": "Python 3",
      "name": "python3"
    },
    "language_info": {
      "name": "python"
    },
    "widgets": {
      "application/vnd.jupyter.widget-state+json": {
        "70e2a5303ef14831b99717b3cac57308": {
          "model_module": "@jupyter-widgets/controls",
          "model_name": "HBoxModel",
          "model_module_version": "1.5.0",
          "state": {
            "_dom_classes": [],
            "_model_module": "@jupyter-widgets/controls",
            "_model_module_version": "1.5.0",
            "_model_name": "HBoxModel",
            "_view_count": null,
            "_view_module": "@jupyter-widgets/controls",
            "_view_module_version": "1.5.0",
            "_view_name": "HBoxView",
            "box_style": "",
            "children": [
              "IPY_MODEL_5fd18979dd984b86b9715973fc014372",
              "IPY_MODEL_bb02f6d1a15a4ac1b03f47ceb9dea3cd",
              "IPY_MODEL_1f33256463bb4d369cfef15f06bb3d22"
            ],
            "layout": "IPY_MODEL_5d01d90259264bb087a64fbc3e36edcf"
          }
        },
        "5fd18979dd984b86b9715973fc014372": {
          "model_module": "@jupyter-widgets/controls",
          "model_name": "HTMLModel",
          "model_module_version": "1.5.0",
          "state": {
            "_dom_classes": [],
            "_model_module": "@jupyter-widgets/controls",
            "_model_module_version": "1.5.0",
            "_model_name": "HTMLModel",
            "_view_count": null,
            "_view_module": "@jupyter-widgets/controls",
            "_view_module_version": "1.5.0",
            "_view_name": "HTMLView",
            "description": "",
            "description_tooltip": null,
            "layout": "IPY_MODEL_8876c7aa7b7040908cc8532d7ba888f9",
            "placeholder": "​",
            "style": "IPY_MODEL_b6a5ddda67704e288f93832a68b5f6b2",
            "value": "Dl Completed...: 100%"
          }
        },
        "bb02f6d1a15a4ac1b03f47ceb9dea3cd": {
          "model_module": "@jupyter-widgets/controls",
          "model_name": "FloatProgressModel",
          "model_module_version": "1.5.0",
          "state": {
            "_dom_classes": [],
            "_model_module": "@jupyter-widgets/controls",
            "_model_module_version": "1.5.0",
            "_model_name": "FloatProgressModel",
            "_view_count": null,
            "_view_module": "@jupyter-widgets/controls",
            "_view_module_version": "1.5.0",
            "_view_name": "ProgressView",
            "bar_style": "success",
            "description": "",
            "description_tooltip": null,
            "layout": "IPY_MODEL_33631b277e7d418a8a6ad0509fb3408f",
            "max": 1,
            "min": 0,
            "orientation": "horizontal",
            "style": "IPY_MODEL_7bc7136528bb47e5aa229df64b7e1cce",
            "value": 1
          }
        },
        "1f33256463bb4d369cfef15f06bb3d22": {
          "model_module": "@jupyter-widgets/controls",
          "model_name": "HTMLModel",
          "model_module_version": "1.5.0",
          "state": {
            "_dom_classes": [],
            "_model_module": "@jupyter-widgets/controls",
            "_model_module_version": "1.5.0",
            "_model_name": "HTMLModel",
            "_view_count": null,
            "_view_module": "@jupyter-widgets/controls",
            "_view_module_version": "1.5.0",
            "_view_name": "HTMLView",
            "description": "",
            "description_tooltip": null,
            "layout": "IPY_MODEL_ce7ed618166d4f07978bf69aa04611ee",
            "placeholder": "​",
            "style": "IPY_MODEL_4fb8c327989c45f58f68685ce0763662",
            "value": " 1/1 [00:46&lt;00:00, 43.63s/ url]"
          }
        },
        "5d01d90259264bb087a64fbc3e36edcf": {
          "model_module": "@jupyter-widgets/base",
          "model_name": "LayoutModel",
          "model_module_version": "1.2.0",
          "state": {
            "_model_module": "@jupyter-widgets/base",
            "_model_module_version": "1.2.0",
            "_model_name": "LayoutModel",
            "_view_count": null,
            "_view_module": "@jupyter-widgets/base",
            "_view_module_version": "1.2.0",
            "_view_name": "LayoutView",
            "align_content": null,
            "align_items": null,
            "align_self": null,
            "border": null,
            "bottom": null,
            "display": null,
            "flex": null,
            "flex_flow": null,
            "grid_area": null,
            "grid_auto_columns": null,
            "grid_auto_flow": null,
            "grid_auto_rows": null,
            "grid_column": null,
            "grid_gap": null,
            "grid_row": null,
            "grid_template_areas": null,
            "grid_template_columns": null,
            "grid_template_rows": null,
            "height": null,
            "justify_content": null,
            "justify_items": null,
            "left": null,
            "margin": null,
            "max_height": null,
            "max_width": null,
            "min_height": null,
            "min_width": null,
            "object_fit": null,
            "object_position": null,
            "order": null,
            "overflow": null,
            "overflow_x": null,
            "overflow_y": null,
            "padding": null,
            "right": null,
            "top": null,
            "visibility": null,
            "width": null
          }
        },
        "8876c7aa7b7040908cc8532d7ba888f9": {
          "model_module": "@jupyter-widgets/base",
          "model_name": "LayoutModel",
          "model_module_version": "1.2.0",
          "state": {
            "_model_module": "@jupyter-widgets/base",
            "_model_module_version": "1.2.0",
            "_model_name": "LayoutModel",
            "_view_count": null,
            "_view_module": "@jupyter-widgets/base",
            "_view_module_version": "1.2.0",
            "_view_name": "LayoutView",
            "align_content": null,
            "align_items": null,
            "align_self": null,
            "border": null,
            "bottom": null,
            "display": null,
            "flex": null,
            "flex_flow": null,
            "grid_area": null,
            "grid_auto_columns": null,
            "grid_auto_flow": null,
            "grid_auto_rows": null,
            "grid_column": null,
            "grid_gap": null,
            "grid_row": null,
            "grid_template_areas": null,
            "grid_template_columns": null,
            "grid_template_rows": null,
            "height": null,
            "justify_content": null,
            "justify_items": null,
            "left": null,
            "margin": null,
            "max_height": null,
            "max_width": null,
            "min_height": null,
            "min_width": null,
            "object_fit": null,
            "object_position": null,
            "order": null,
            "overflow": null,
            "overflow_x": null,
            "overflow_y": null,
            "padding": null,
            "right": null,
            "top": null,
            "visibility": null,
            "width": null
          }
        },
        "b6a5ddda67704e288f93832a68b5f6b2": {
          "model_module": "@jupyter-widgets/controls",
          "model_name": "DescriptionStyleModel",
          "model_module_version": "1.5.0",
          "state": {
            "_model_module": "@jupyter-widgets/controls",
            "_model_module_version": "1.5.0",
            "_model_name": "DescriptionStyleModel",
            "_view_count": null,
            "_view_module": "@jupyter-widgets/base",
            "_view_module_version": "1.2.0",
            "_view_name": "StyleView",
            "description_width": ""
          }
        },
        "33631b277e7d418a8a6ad0509fb3408f": {
          "model_module": "@jupyter-widgets/base",
          "model_name": "LayoutModel",
          "model_module_version": "1.2.0",
          "state": {
            "_model_module": "@jupyter-widgets/base",
            "_model_module_version": "1.2.0",
            "_model_name": "LayoutModel",
            "_view_count": null,
            "_view_module": "@jupyter-widgets/base",
            "_view_module_version": "1.2.0",
            "_view_name": "LayoutView",
            "align_content": null,
            "align_items": null,
            "align_self": null,
            "border": null,
            "bottom": null,
            "display": null,
            "flex": null,
            "flex_flow": null,
            "grid_area": null,
            "grid_auto_columns": null,
            "grid_auto_flow": null,
            "grid_auto_rows": null,
            "grid_column": null,
            "grid_gap": null,
            "grid_row": null,
            "grid_template_areas": null,
            "grid_template_columns": null,
            "grid_template_rows": null,
            "height": null,
            "justify_content": null,
            "justify_items": null,
            "left": null,
            "margin": null,
            "max_height": null,
            "max_width": null,
            "min_height": null,
            "min_width": null,
            "object_fit": null,
            "object_position": null,
            "order": null,
            "overflow": null,
            "overflow_x": null,
            "overflow_y": null,
            "padding": null,
            "right": null,
            "top": null,
            "visibility": null,
            "width": "20px"
          }
        },
        "7bc7136528bb47e5aa229df64b7e1cce": {
          "model_module": "@jupyter-widgets/controls",
          "model_name": "ProgressStyleModel",
          "model_module_version": "1.5.0",
          "state": {
            "_model_module": "@jupyter-widgets/controls",
            "_model_module_version": "1.5.0",
            "_model_name": "ProgressStyleModel",
            "_view_count": null,
            "_view_module": "@jupyter-widgets/base",
            "_view_module_version": "1.2.0",
            "_view_name": "StyleView",
            "bar_color": null,
            "description_width": ""
          }
        },
        "ce7ed618166d4f07978bf69aa04611ee": {
          "model_module": "@jupyter-widgets/base",
          "model_name": "LayoutModel",
          "model_module_version": "1.2.0",
          "state": {
            "_model_module": "@jupyter-widgets/base",
            "_model_module_version": "1.2.0",
            "_model_name": "LayoutModel",
            "_view_count": null,
            "_view_module": "@jupyter-widgets/base",
            "_view_module_version": "1.2.0",
            "_view_name": "LayoutView",
            "align_content": null,
            "align_items": null,
            "align_self": null,
            "border": null,
            "bottom": null,
            "display": null,
            "flex": null,
            "flex_flow": null,
            "grid_area": null,
            "grid_auto_columns": null,
            "grid_auto_flow": null,
            "grid_auto_rows": null,
            "grid_column": null,
            "grid_gap": null,
            "grid_row": null,
            "grid_template_areas": null,
            "grid_template_columns": null,
            "grid_template_rows": null,
            "height": null,
            "justify_content": null,
            "justify_items": null,
            "left": null,
            "margin": null,
            "max_height": null,
            "max_width": null,
            "min_height": null,
            "min_width": null,
            "object_fit": null,
            "object_position": null,
            "order": null,
            "overflow": null,
            "overflow_x": null,
            "overflow_y": null,
            "padding": null,
            "right": null,
            "top": null,
            "visibility": null,
            "width": null
          }
        },
        "4fb8c327989c45f58f68685ce0763662": {
          "model_module": "@jupyter-widgets/controls",
          "model_name": "DescriptionStyleModel",
          "model_module_version": "1.5.0",
          "state": {
            "_model_module": "@jupyter-widgets/controls",
            "_model_module_version": "1.5.0",
            "_model_name": "DescriptionStyleModel",
            "_view_count": null,
            "_view_module": "@jupyter-widgets/base",
            "_view_module_version": "1.2.0",
            "_view_name": "StyleView",
            "description_width": ""
          }
        },
        "0f6c09d239254f73b2d0a19f4104ef8e": {
          "model_module": "@jupyter-widgets/controls",
          "model_name": "HBoxModel",
          "model_module_version": "1.5.0",
          "state": {
            "_dom_classes": [],
            "_model_module": "@jupyter-widgets/controls",
            "_model_module_version": "1.5.0",
            "_model_name": "HBoxModel",
            "_view_count": null,
            "_view_module": "@jupyter-widgets/controls",
            "_view_module_version": "1.5.0",
            "_view_name": "HBoxView",
            "box_style": "",
            "children": [
              "IPY_MODEL_3122634f80654e79bddd7eda289f43d1",
              "IPY_MODEL_0d43ac01b442406687330921174c5dd7",
              "IPY_MODEL_9c051bccc18745ffaa74109886e62f28"
            ],
            "layout": "IPY_MODEL_dcb77dbae44a4c77a987ec58379e8939"
          }
        },
        "3122634f80654e79bddd7eda289f43d1": {
          "model_module": "@jupyter-widgets/controls",
          "model_name": "HTMLModel",
          "model_module_version": "1.5.0",
          "state": {
            "_dom_classes": [],
            "_model_module": "@jupyter-widgets/controls",
            "_model_module_version": "1.5.0",
            "_model_name": "HTMLModel",
            "_view_count": null,
            "_view_module": "@jupyter-widgets/controls",
            "_view_module_version": "1.5.0",
            "_view_name": "HTMLView",
            "description": "",
            "description_tooltip": null,
            "layout": "IPY_MODEL_bf78e737e08145e2932cbc77702815a8",
            "placeholder": "​",
            "style": "IPY_MODEL_0800731642c14cb38a0b38af18f558da",
            "value": "Dl Size...: 100%"
          }
        },
        "0d43ac01b442406687330921174c5dd7": {
          "model_module": "@jupyter-widgets/controls",
          "model_name": "FloatProgressModel",
          "model_module_version": "1.5.0",
          "state": {
            "_dom_classes": [],
            "_model_module": "@jupyter-widgets/controls",
            "_model_module_version": "1.5.0",
            "_model_name": "FloatProgressModel",
            "_view_count": null,
            "_view_module": "@jupyter-widgets/controls",
            "_view_module_version": "1.5.0",
            "_view_name": "ProgressView",
            "bar_style": "success",
            "description": "",
            "description_tooltip": null,
            "layout": "IPY_MODEL_7a31d8405c6a41f0a192d2a7e5280c8c",
            "max": 1,
            "min": 0,
            "orientation": "horizontal",
            "style": "IPY_MODEL_995e69ba73fa4c6390f16f21b924e20a",
            "value": 1
          }
        },
        "9c051bccc18745ffaa74109886e62f28": {
          "model_module": "@jupyter-widgets/controls",
          "model_name": "HTMLModel",
          "model_module_version": "1.5.0",
          "state": {
            "_dom_classes": [],
            "_model_module": "@jupyter-widgets/controls",
            "_model_module_version": "1.5.0",
            "_model_name": "HTMLModel",
            "_view_count": null,
            "_view_module": "@jupyter-widgets/controls",
            "_view_module_version": "1.5.0",
            "_view_name": "HTMLView",
            "description": "",
            "description_tooltip": null,
            "layout": "IPY_MODEL_850ac3a5a2464e968b3071e23932c74d",
            "placeholder": "​",
            "style": "IPY_MODEL_9a153cbd0aad4e9caf523f353ed4dde0",
            "value": " 535/535 [00:46&lt;00:00, 11.82 MiB/s]"
          }
        },
        "dcb77dbae44a4c77a987ec58379e8939": {
          "model_module": "@jupyter-widgets/base",
          "model_name": "LayoutModel",
          "model_module_version": "1.2.0",
          "state": {
            "_model_module": "@jupyter-widgets/base",
            "_model_module_version": "1.2.0",
            "_model_name": "LayoutModel",
            "_view_count": null,
            "_view_module": "@jupyter-widgets/base",
            "_view_module_version": "1.2.0",
            "_view_name": "LayoutView",
            "align_content": null,
            "align_items": null,
            "align_self": null,
            "border": null,
            "bottom": null,
            "display": null,
            "flex": null,
            "flex_flow": null,
            "grid_area": null,
            "grid_auto_columns": null,
            "grid_auto_flow": null,
            "grid_auto_rows": null,
            "grid_column": null,
            "grid_gap": null,
            "grid_row": null,
            "grid_template_areas": null,
            "grid_template_columns": null,
            "grid_template_rows": null,
            "height": null,
            "justify_content": null,
            "justify_items": null,
            "left": null,
            "margin": null,
            "max_height": null,
            "max_width": null,
            "min_height": null,
            "min_width": null,
            "object_fit": null,
            "object_position": null,
            "order": null,
            "overflow": null,
            "overflow_x": null,
            "overflow_y": null,
            "padding": null,
            "right": null,
            "top": null,
            "visibility": null,
            "width": null
          }
        },
        "bf78e737e08145e2932cbc77702815a8": {
          "model_module": "@jupyter-widgets/base",
          "model_name": "LayoutModel",
          "model_module_version": "1.2.0",
          "state": {
            "_model_module": "@jupyter-widgets/base",
            "_model_module_version": "1.2.0",
            "_model_name": "LayoutModel",
            "_view_count": null,
            "_view_module": "@jupyter-widgets/base",
            "_view_module_version": "1.2.0",
            "_view_name": "LayoutView",
            "align_content": null,
            "align_items": null,
            "align_self": null,
            "border": null,
            "bottom": null,
            "display": null,
            "flex": null,
            "flex_flow": null,
            "grid_area": null,
            "grid_auto_columns": null,
            "grid_auto_flow": null,
            "grid_auto_rows": null,
            "grid_column": null,
            "grid_gap": null,
            "grid_row": null,
            "grid_template_areas": null,
            "grid_template_columns": null,
            "grid_template_rows": null,
            "height": null,
            "justify_content": null,
            "justify_items": null,
            "left": null,
            "margin": null,
            "max_height": null,
            "max_width": null,
            "min_height": null,
            "min_width": null,
            "object_fit": null,
            "object_position": null,
            "order": null,
            "overflow": null,
            "overflow_x": null,
            "overflow_y": null,
            "padding": null,
            "right": null,
            "top": null,
            "visibility": null,
            "width": null
          }
        },
        "0800731642c14cb38a0b38af18f558da": {
          "model_module": "@jupyter-widgets/controls",
          "model_name": "DescriptionStyleModel",
          "model_module_version": "1.5.0",
          "state": {
            "_model_module": "@jupyter-widgets/controls",
            "_model_module_version": "1.5.0",
            "_model_name": "DescriptionStyleModel",
            "_view_count": null,
            "_view_module": "@jupyter-widgets/base",
            "_view_module_version": "1.2.0",
            "_view_name": "StyleView",
            "description_width": ""
          }
        },
        "7a31d8405c6a41f0a192d2a7e5280c8c": {
          "model_module": "@jupyter-widgets/base",
          "model_name": "LayoutModel",
          "model_module_version": "1.2.0",
          "state": {
            "_model_module": "@jupyter-widgets/base",
            "_model_module_version": "1.2.0",
            "_model_name": "LayoutModel",
            "_view_count": null,
            "_view_module": "@jupyter-widgets/base",
            "_view_module_version": "1.2.0",
            "_view_name": "LayoutView",
            "align_content": null,
            "align_items": null,
            "align_self": null,
            "border": null,
            "bottom": null,
            "display": null,
            "flex": null,
            "flex_flow": null,
            "grid_area": null,
            "grid_auto_columns": null,
            "grid_auto_flow": null,
            "grid_auto_rows": null,
            "grid_column": null,
            "grid_gap": null,
            "grid_row": null,
            "grid_template_areas": null,
            "grid_template_columns": null,
            "grid_template_rows": null,
            "height": null,
            "justify_content": null,
            "justify_items": null,
            "left": null,
            "margin": null,
            "max_height": null,
            "max_width": null,
            "min_height": null,
            "min_width": null,
            "object_fit": null,
            "object_position": null,
            "order": null,
            "overflow": null,
            "overflow_x": null,
            "overflow_y": null,
            "padding": null,
            "right": null,
            "top": null,
            "visibility": null,
            "width": "20px"
          }
        },
        "995e69ba73fa4c6390f16f21b924e20a": {
          "model_module": "@jupyter-widgets/controls",
          "model_name": "ProgressStyleModel",
          "model_module_version": "1.5.0",
          "state": {
            "_model_module": "@jupyter-widgets/controls",
            "_model_module_version": "1.5.0",
            "_model_name": "ProgressStyleModel",
            "_view_count": null,
            "_view_module": "@jupyter-widgets/base",
            "_view_module_version": "1.2.0",
            "_view_name": "StyleView",
            "bar_color": null,
            "description_width": ""
          }
        },
        "850ac3a5a2464e968b3071e23932c74d": {
          "model_module": "@jupyter-widgets/base",
          "model_name": "LayoutModel",
          "model_module_version": "1.2.0",
          "state": {
            "_model_module": "@jupyter-widgets/base",
            "_model_module_version": "1.2.0",
            "_model_name": "LayoutModel",
            "_view_count": null,
            "_view_module": "@jupyter-widgets/base",
            "_view_module_version": "1.2.0",
            "_view_name": "LayoutView",
            "align_content": null,
            "align_items": null,
            "align_self": null,
            "border": null,
            "bottom": null,
            "display": null,
            "flex": null,
            "flex_flow": null,
            "grid_area": null,
            "grid_auto_columns": null,
            "grid_auto_flow": null,
            "grid_auto_rows": null,
            "grid_column": null,
            "grid_gap": null,
            "grid_row": null,
            "grid_template_areas": null,
            "grid_template_columns": null,
            "grid_template_rows": null,
            "height": null,
            "justify_content": null,
            "justify_items": null,
            "left": null,
            "margin": null,
            "max_height": null,
            "max_width": null,
            "min_height": null,
            "min_width": null,
            "object_fit": null,
            "object_position": null,
            "order": null,
            "overflow": null,
            "overflow_x": null,
            "overflow_y": null,
            "padding": null,
            "right": null,
            "top": null,
            "visibility": null,
            "width": null
          }
        },
        "9a153cbd0aad4e9caf523f353ed4dde0": {
          "model_module": "@jupyter-widgets/controls",
          "model_name": "DescriptionStyleModel",
          "model_module_version": "1.5.0",
          "state": {
            "_model_module": "@jupyter-widgets/controls",
            "_model_module_version": "1.5.0",
            "_model_name": "DescriptionStyleModel",
            "_view_count": null,
            "_view_module": "@jupyter-widgets/base",
            "_view_module_version": "1.2.0",
            "_view_name": "StyleView",
            "description_width": ""
          }
        },
        "2c03c4de162549c19058176552f650c3": {
          "model_module": "@jupyter-widgets/controls",
          "model_name": "HBoxModel",
          "model_module_version": "1.5.0",
          "state": {
            "_dom_classes": [],
            "_model_module": "@jupyter-widgets/controls",
            "_model_module_version": "1.5.0",
            "_model_name": "HBoxModel",
            "_view_count": null,
            "_view_module": "@jupyter-widgets/controls",
            "_view_module_version": "1.5.0",
            "_view_name": "HBoxView",
            "box_style": "",
            "children": [
              "IPY_MODEL_91be63345b9647049794f3faeaa114f0",
              "IPY_MODEL_28cd6bfe1f3a4f7696e3316d36a0f865",
              "IPY_MODEL_ef08afd9014f491093db6a12bd22c909"
            ],
            "layout": "IPY_MODEL_cf02f674d7e44364931a93ab4c6ff86b"
          }
        },
        "91be63345b9647049794f3faeaa114f0": {
          "model_module": "@jupyter-widgets/controls",
          "model_name": "HTMLModel",
          "model_module_version": "1.5.0",
          "state": {
            "_dom_classes": [],
            "_model_module": "@jupyter-widgets/controls",
            "_model_module_version": "1.5.0",
            "_model_name": "HTMLModel",
            "_view_count": null,
            "_view_module": "@jupyter-widgets/controls",
            "_view_module_version": "1.5.0",
            "_view_name": "HTMLView",
            "description": "",
            "description_tooltip": null,
            "layout": "IPY_MODEL_fcb96a75262f4a579d9984d82e85a7f5",
            "placeholder": "​",
            "style": "IPY_MODEL_e8ec93ad90fe487cad764eb0e49bea31",
            "value": "Extraction completed...: 100%"
          }
        },
        "28cd6bfe1f3a4f7696e3316d36a0f865": {
          "model_module": "@jupyter-widgets/controls",
          "model_name": "FloatProgressModel",
          "model_module_version": "1.5.0",
          "state": {
            "_dom_classes": [],
            "_model_module": "@jupyter-widgets/controls",
            "_model_module_version": "1.5.0",
            "_model_name": "FloatProgressModel",
            "_view_count": null,
            "_view_module": "@jupyter-widgets/controls",
            "_view_module_version": "1.5.0",
            "_view_name": "ProgressView",
            "bar_style": "success",
            "description": "",
            "description_tooltip": null,
            "layout": "IPY_MODEL_3ee7dab86c894f09a916c5a4a72583b0",
            "max": 1,
            "min": 0,
            "orientation": "horizontal",
            "style": "IPY_MODEL_11ae6b8f5e234575b2e52336ae863385",
            "value": 1
          }
        },
        "ef08afd9014f491093db6a12bd22c909": {
          "model_module": "@jupyter-widgets/controls",
          "model_name": "HTMLModel",
          "model_module_version": "1.5.0",
          "state": {
            "_dom_classes": [],
            "_model_module": "@jupyter-widgets/controls",
            "_model_module_version": "1.5.0",
            "_model_name": "HTMLModel",
            "_view_count": null,
            "_view_module": "@jupyter-widgets/controls",
            "_view_module_version": "1.5.0",
            "_view_name": "HTMLView",
            "description": "",
            "description_tooltip": null,
            "layout": "IPY_MODEL_df3c0c93ae144f0ba63d020e1bb7061f",
            "placeholder": "​",
            "style": "IPY_MODEL_8fbcf6c694824680964df4bc86687d5a",
            "value": " 30/30 [00:46&lt;00:00, 46.50s/ file]"
          }
        },
        "cf02f674d7e44364931a93ab4c6ff86b": {
          "model_module": "@jupyter-widgets/base",
          "model_name": "LayoutModel",
          "model_module_version": "1.2.0",
          "state": {
            "_model_module": "@jupyter-widgets/base",
            "_model_module_version": "1.2.0",
            "_model_name": "LayoutModel",
            "_view_count": null,
            "_view_module": "@jupyter-widgets/base",
            "_view_module_version": "1.2.0",
            "_view_name": "LayoutView",
            "align_content": null,
            "align_items": null,
            "align_self": null,
            "border": null,
            "bottom": null,
            "display": null,
            "flex": null,
            "flex_flow": null,
            "grid_area": null,
            "grid_auto_columns": null,
            "grid_auto_flow": null,
            "grid_auto_rows": null,
            "grid_column": null,
            "grid_gap": null,
            "grid_row": null,
            "grid_template_areas": null,
            "grid_template_columns": null,
            "grid_template_rows": null,
            "height": null,
            "justify_content": null,
            "justify_items": null,
            "left": null,
            "margin": null,
            "max_height": null,
            "max_width": null,
            "min_height": null,
            "min_width": null,
            "object_fit": null,
            "object_position": null,
            "order": null,
            "overflow": null,
            "overflow_x": null,
            "overflow_y": null,
            "padding": null,
            "right": null,
            "top": null,
            "visibility": null,
            "width": null
          }
        },
        "fcb96a75262f4a579d9984d82e85a7f5": {
          "model_module": "@jupyter-widgets/base",
          "model_name": "LayoutModel",
          "model_module_version": "1.2.0",
          "state": {
            "_model_module": "@jupyter-widgets/base",
            "_model_module_version": "1.2.0",
            "_model_name": "LayoutModel",
            "_view_count": null,
            "_view_module": "@jupyter-widgets/base",
            "_view_module_version": "1.2.0",
            "_view_name": "LayoutView",
            "align_content": null,
            "align_items": null,
            "align_self": null,
            "border": null,
            "bottom": null,
            "display": null,
            "flex": null,
            "flex_flow": null,
            "grid_area": null,
            "grid_auto_columns": null,
            "grid_auto_flow": null,
            "grid_auto_rows": null,
            "grid_column": null,
            "grid_gap": null,
            "grid_row": null,
            "grid_template_areas": null,
            "grid_template_columns": null,
            "grid_template_rows": null,
            "height": null,
            "justify_content": null,
            "justify_items": null,
            "left": null,
            "margin": null,
            "max_height": null,
            "max_width": null,
            "min_height": null,
            "min_width": null,
            "object_fit": null,
            "object_position": null,
            "order": null,
            "overflow": null,
            "overflow_x": null,
            "overflow_y": null,
            "padding": null,
            "right": null,
            "top": null,
            "visibility": null,
            "width": null
          }
        },
        "e8ec93ad90fe487cad764eb0e49bea31": {
          "model_module": "@jupyter-widgets/controls",
          "model_name": "DescriptionStyleModel",
          "model_module_version": "1.5.0",
          "state": {
            "_model_module": "@jupyter-widgets/controls",
            "_model_module_version": "1.5.0",
            "_model_name": "DescriptionStyleModel",
            "_view_count": null,
            "_view_module": "@jupyter-widgets/base",
            "_view_module_version": "1.2.0",
            "_view_name": "StyleView",
            "description_width": ""
          }
        },
        "3ee7dab86c894f09a916c5a4a72583b0": {
          "model_module": "@jupyter-widgets/base",
          "model_name": "LayoutModel",
          "model_module_version": "1.2.0",
          "state": {
            "_model_module": "@jupyter-widgets/base",
            "_model_module_version": "1.2.0",
            "_model_name": "LayoutModel",
            "_view_count": null,
            "_view_module": "@jupyter-widgets/base",
            "_view_module_version": "1.2.0",
            "_view_name": "LayoutView",
            "align_content": null,
            "align_items": null,
            "align_self": null,
            "border": null,
            "bottom": null,
            "display": null,
            "flex": null,
            "flex_flow": null,
            "grid_area": null,
            "grid_auto_columns": null,
            "grid_auto_flow": null,
            "grid_auto_rows": null,
            "grid_column": null,
            "grid_gap": null,
            "grid_row": null,
            "grid_template_areas": null,
            "grid_template_columns": null,
            "grid_template_rows": null,
            "height": null,
            "justify_content": null,
            "justify_items": null,
            "left": null,
            "margin": null,
            "max_height": null,
            "max_width": null,
            "min_height": null,
            "min_width": null,
            "object_fit": null,
            "object_position": null,
            "order": null,
            "overflow": null,
            "overflow_x": null,
            "overflow_y": null,
            "padding": null,
            "right": null,
            "top": null,
            "visibility": null,
            "width": "20px"
          }
        },
        "11ae6b8f5e234575b2e52336ae863385": {
          "model_module": "@jupyter-widgets/controls",
          "model_name": "ProgressStyleModel",
          "model_module_version": "1.5.0",
          "state": {
            "_model_module": "@jupyter-widgets/controls",
            "_model_module_version": "1.5.0",
            "_model_name": "ProgressStyleModel",
            "_view_count": null,
            "_view_module": "@jupyter-widgets/base",
            "_view_module_version": "1.2.0",
            "_view_name": "StyleView",
            "bar_color": null,
            "description_width": ""
          }
        },
        "df3c0c93ae144f0ba63d020e1bb7061f": {
          "model_module": "@jupyter-widgets/base",
          "model_name": "LayoutModel",
          "model_module_version": "1.2.0",
          "state": {
            "_model_module": "@jupyter-widgets/base",
            "_model_module_version": "1.2.0",
            "_model_name": "LayoutModel",
            "_view_count": null,
            "_view_module": "@jupyter-widgets/base",
            "_view_module_version": "1.2.0",
            "_view_name": "LayoutView",
            "align_content": null,
            "align_items": null,
            "align_self": null,
            "border": null,
            "bottom": null,
            "display": null,
            "flex": null,
            "flex_flow": null,
            "grid_area": null,
            "grid_auto_columns": null,
            "grid_auto_flow": null,
            "grid_auto_rows": null,
            "grid_column": null,
            "grid_gap": null,
            "grid_row": null,
            "grid_template_areas": null,
            "grid_template_columns": null,
            "grid_template_rows": null,
            "height": null,
            "justify_content": null,
            "justify_items": null,
            "left": null,
            "margin": null,
            "max_height": null,
            "max_width": null,
            "min_height": null,
            "min_width": null,
            "object_fit": null,
            "object_position": null,
            "order": null,
            "overflow": null,
            "overflow_x": null,
            "overflow_y": null,
            "padding": null,
            "right": null,
            "top": null,
            "visibility": null,
            "width": null
          }
        },
        "8fbcf6c694824680964df4bc86687d5a": {
          "model_module": "@jupyter-widgets/controls",
          "model_name": "DescriptionStyleModel",
          "model_module_version": "1.5.0",
          "state": {
            "_model_module": "@jupyter-widgets/controls",
            "_model_module_version": "1.5.0",
            "_model_name": "DescriptionStyleModel",
            "_view_count": null,
            "_view_module": "@jupyter-widgets/base",
            "_view_module_version": "1.2.0",
            "_view_name": "StyleView",
            "description_width": ""
          }
        },
        "2bbbca3eeb3b42a98b9a44b3fcc27100": {
          "model_module": "@jupyter-widgets/controls",
          "model_name": "HBoxModel",
          "model_module_version": "1.5.0",
          "state": {
            "_dom_classes": [],
            "_model_module": "@jupyter-widgets/controls",
            "_model_module_version": "1.5.0",
            "_model_name": "HBoxModel",
            "_view_count": null,
            "_view_module": "@jupyter-widgets/controls",
            "_view_module_version": "1.5.0",
            "_view_name": "HBoxView",
            "box_style": "",
            "children": [
              "IPY_MODEL_48e70ad155704b4e87951fb05744f32e",
              "IPY_MODEL_4681fc8c16cc46da80ca4b8d12461e57",
              "IPY_MODEL_d804698ce27147ba8ee19da5ebdfade0"
            ],
            "layout": "IPY_MODEL_a4a71c220d1e40418a36601893dfcbf3"
          }
        },
        "48e70ad155704b4e87951fb05744f32e": {
          "model_module": "@jupyter-widgets/controls",
          "model_name": "HTMLModel",
          "model_module_version": "1.5.0",
          "state": {
            "_dom_classes": [],
            "_model_module": "@jupyter-widgets/controls",
            "_model_module_version": "1.5.0",
            "_model_name": "HTMLModel",
            "_view_count": null,
            "_view_module": "@jupyter-widgets/controls",
            "_view_module_version": "1.5.0",
            "_view_name": "HTMLView",
            "description": "",
            "description_tooltip": null,
            "layout": "IPY_MODEL_3c2ef4c393604b4b90bc203e734ac1d7",
            "placeholder": "​",
            "style": "IPY_MODEL_d3becc2cc7f54b2c9f1b94d7cd43c093",
            "value": "Extraction completed...: 100%"
          }
        },
        "4681fc8c16cc46da80ca4b8d12461e57": {
          "model_module": "@jupyter-widgets/controls",
          "model_name": "FloatProgressModel",
          "model_module_version": "1.5.0",
          "state": {
            "_dom_classes": [],
            "_model_module": "@jupyter-widgets/controls",
            "_model_module_version": "1.5.0",
            "_model_name": "FloatProgressModel",
            "_view_count": null,
            "_view_module": "@jupyter-widgets/controls",
            "_view_module_version": "1.5.0",
            "_view_name": "ProgressView",
            "bar_style": "success",
            "description": "",
            "description_tooltip": null,
            "layout": "IPY_MODEL_384bd3ac1d8544b6b494acd0d5c35fa4",
            "max": 1,
            "min": 0,
            "orientation": "horizontal",
            "style": "IPY_MODEL_9f6172db537c4335a2ad83b47d5720aa",
            "value": 1
          }
        },
        "d804698ce27147ba8ee19da5ebdfade0": {
          "model_module": "@jupyter-widgets/controls",
          "model_name": "HTMLModel",
          "model_module_version": "1.5.0",
          "state": {
            "_dom_classes": [],
            "_model_module": "@jupyter-widgets/controls",
            "_model_module_version": "1.5.0",
            "_model_name": "HTMLModel",
            "_view_count": null,
            "_view_module": "@jupyter-widgets/controls",
            "_view_module_version": "1.5.0",
            "_view_name": "HTMLView",
            "description": "",
            "description_tooltip": null,
            "layout": "IPY_MODEL_6adff42f8b4742d9933190272cc2a8cb",
            "placeholder": "​",
            "style": "IPY_MODEL_ed2cc1b6d8c84d18b460fe37d3fe4b20",
            "value": " 4/4 [00:04&lt;00:00,  1.07s/ file]"
          }
        },
        "a4a71c220d1e40418a36601893dfcbf3": {
          "model_module": "@jupyter-widgets/base",
          "model_name": "LayoutModel",
          "model_module_version": "1.2.0",
          "state": {
            "_model_module": "@jupyter-widgets/base",
            "_model_module_version": "1.2.0",
            "_model_name": "LayoutModel",
            "_view_count": null,
            "_view_module": "@jupyter-widgets/base",
            "_view_module_version": "1.2.0",
            "_view_name": "LayoutView",
            "align_content": null,
            "align_items": null,
            "align_self": null,
            "border": null,
            "bottom": null,
            "display": null,
            "flex": null,
            "flex_flow": null,
            "grid_area": null,
            "grid_auto_columns": null,
            "grid_auto_flow": null,
            "grid_auto_rows": null,
            "grid_column": null,
            "grid_gap": null,
            "grid_row": null,
            "grid_template_areas": null,
            "grid_template_columns": null,
            "grid_template_rows": null,
            "height": null,
            "justify_content": null,
            "justify_items": null,
            "left": null,
            "margin": null,
            "max_height": null,
            "max_width": null,
            "min_height": null,
            "min_width": null,
            "object_fit": null,
            "object_position": null,
            "order": null,
            "overflow": null,
            "overflow_x": null,
            "overflow_y": null,
            "padding": null,
            "right": null,
            "top": null,
            "visibility": null,
            "width": null
          }
        },
        "3c2ef4c393604b4b90bc203e734ac1d7": {
          "model_module": "@jupyter-widgets/base",
          "model_name": "LayoutModel",
          "model_module_version": "1.2.0",
          "state": {
            "_model_module": "@jupyter-widgets/base",
            "_model_module_version": "1.2.0",
            "_model_name": "LayoutModel",
            "_view_count": null,
            "_view_module": "@jupyter-widgets/base",
            "_view_module_version": "1.2.0",
            "_view_name": "LayoutView",
            "align_content": null,
            "align_items": null,
            "align_self": null,
            "border": null,
            "bottom": null,
            "display": null,
            "flex": null,
            "flex_flow": null,
            "grid_area": null,
            "grid_auto_columns": null,
            "grid_auto_flow": null,
            "grid_auto_rows": null,
            "grid_column": null,
            "grid_gap": null,
            "grid_row": null,
            "grid_template_areas": null,
            "grid_template_columns": null,
            "grid_template_rows": null,
            "height": null,
            "justify_content": null,
            "justify_items": null,
            "left": null,
            "margin": null,
            "max_height": null,
            "max_width": null,
            "min_height": null,
            "min_width": null,
            "object_fit": null,
            "object_position": null,
            "order": null,
            "overflow": null,
            "overflow_x": null,
            "overflow_y": null,
            "padding": null,
            "right": null,
            "top": null,
            "visibility": null,
            "width": null
          }
        },
        "d3becc2cc7f54b2c9f1b94d7cd43c093": {
          "model_module": "@jupyter-widgets/controls",
          "model_name": "DescriptionStyleModel",
          "model_module_version": "1.5.0",
          "state": {
            "_model_module": "@jupyter-widgets/controls",
            "_model_module_version": "1.5.0",
            "_model_name": "DescriptionStyleModel",
            "_view_count": null,
            "_view_module": "@jupyter-widgets/base",
            "_view_module_version": "1.2.0",
            "_view_name": "StyleView",
            "description_width": ""
          }
        },
        "384bd3ac1d8544b6b494acd0d5c35fa4": {
          "model_module": "@jupyter-widgets/base",
          "model_name": "LayoutModel",
          "model_module_version": "1.2.0",
          "state": {
            "_model_module": "@jupyter-widgets/base",
            "_model_module_version": "1.2.0",
            "_model_name": "LayoutModel",
            "_view_count": null,
            "_view_module": "@jupyter-widgets/base",
            "_view_module_version": "1.2.0",
            "_view_name": "LayoutView",
            "align_content": null,
            "align_items": null,
            "align_self": null,
            "border": null,
            "bottom": null,
            "display": null,
            "flex": null,
            "flex_flow": null,
            "grid_area": null,
            "grid_auto_columns": null,
            "grid_auto_flow": null,
            "grid_auto_rows": null,
            "grid_column": null,
            "grid_gap": null,
            "grid_row": null,
            "grid_template_areas": null,
            "grid_template_columns": null,
            "grid_template_rows": null,
            "height": null,
            "justify_content": null,
            "justify_items": null,
            "left": null,
            "margin": null,
            "max_height": null,
            "max_width": null,
            "min_height": null,
            "min_width": null,
            "object_fit": null,
            "object_position": null,
            "order": null,
            "overflow": null,
            "overflow_x": null,
            "overflow_y": null,
            "padding": null,
            "right": null,
            "top": null,
            "visibility": null,
            "width": "20px"
          }
        },
        "9f6172db537c4335a2ad83b47d5720aa": {
          "model_module": "@jupyter-widgets/controls",
          "model_name": "ProgressStyleModel",
          "model_module_version": "1.5.0",
          "state": {
            "_model_module": "@jupyter-widgets/controls",
            "_model_module_version": "1.5.0",
            "_model_name": "ProgressStyleModel",
            "_view_count": null,
            "_view_module": "@jupyter-widgets/base",
            "_view_module_version": "1.2.0",
            "_view_name": "StyleView",
            "bar_color": null,
            "description_width": ""
          }
        },
        "6adff42f8b4742d9933190272cc2a8cb": {
          "model_module": "@jupyter-widgets/base",
          "model_name": "LayoutModel",
          "model_module_version": "1.2.0",
          "state": {
            "_model_module": "@jupyter-widgets/base",
            "_model_module_version": "1.2.0",
            "_model_name": "LayoutModel",
            "_view_count": null,
            "_view_module": "@jupyter-widgets/base",
            "_view_module_version": "1.2.0",
            "_view_name": "LayoutView",
            "align_content": null,
            "align_items": null,
            "align_self": null,
            "border": null,
            "bottom": null,
            "display": null,
            "flex": null,
            "flex_flow": null,
            "grid_area": null,
            "grid_auto_columns": null,
            "grid_auto_flow": null,
            "grid_auto_rows": null,
            "grid_column": null,
            "grid_gap": null,
            "grid_row": null,
            "grid_template_areas": null,
            "grid_template_columns": null,
            "grid_template_rows": null,
            "height": null,
            "justify_content": null,
            "justify_items": null,
            "left": null,
            "margin": null,
            "max_height": null,
            "max_width": null,
            "min_height": null,
            "min_width": null,
            "object_fit": null,
            "object_position": null,
            "order": null,
            "overflow": null,
            "overflow_x": null,
            "overflow_y": null,
            "padding": null,
            "right": null,
            "top": null,
            "visibility": null,
            "width": null
          }
        },
        "ed2cc1b6d8c84d18b460fe37d3fe4b20": {
          "model_module": "@jupyter-widgets/controls",
          "model_name": "DescriptionStyleModel",
          "model_module_version": "1.5.0",
          "state": {
            "_model_module": "@jupyter-widgets/controls",
            "_model_module_version": "1.5.0",
            "_model_name": "DescriptionStyleModel",
            "_view_count": null,
            "_view_module": "@jupyter-widgets/base",
            "_view_module_version": "1.2.0",
            "_view_name": "StyleView",
            "description_width": ""
          }
        },
        "394e2fa7b23645cab3b1100a408e432e": {
          "model_module": "@jupyter-widgets/controls",
          "model_name": "HBoxModel",
          "model_module_version": "1.5.0",
          "state": {
            "_dom_classes": [],
            "_model_module": "@jupyter-widgets/controls",
            "_model_module_version": "1.5.0",
            "_model_name": "HBoxModel",
            "_view_count": null,
            "_view_module": "@jupyter-widgets/controls",
            "_view_module_version": "1.5.0",
            "_view_name": "HBoxView",
            "box_style": "",
            "children": [
              "IPY_MODEL_703cd1ea49bd455c91de9a65dc0f8353",
              "IPY_MODEL_1ac394761b9f4621a5c7cfdaf41e5aeb",
              "IPY_MODEL_6677d498541a47c09939b2a7e2dc5bc3"
            ],
            "layout": "IPY_MODEL_4e6a1d648baf416aa4183c8ddb0a9046"
          }
        },
        "703cd1ea49bd455c91de9a65dc0f8353": {
          "model_module": "@jupyter-widgets/controls",
          "model_name": "HTMLModel",
          "model_module_version": "1.5.0",
          "state": {
            "_dom_classes": [],
            "_model_module": "@jupyter-widgets/controls",
            "_model_module_version": "1.5.0",
            "_model_name": "HTMLModel",
            "_view_count": null,
            "_view_module": "@jupyter-widgets/controls",
            "_view_module_version": "1.5.0",
            "_view_name": "HTMLView",
            "description": "",
            "description_tooltip": null,
            "layout": "IPY_MODEL_95f39c8f6bcd48bb87e917d312951413",
            "placeholder": "​",
            "style": "IPY_MODEL_96ce4101d0794236a8f657346d0f6e70",
            "value": "Generating splits...: 100%"
          }
        },
        "1ac394761b9f4621a5c7cfdaf41e5aeb": {
          "model_module": "@jupyter-widgets/controls",
          "model_name": "FloatProgressModel",
          "model_module_version": "1.5.0",
          "state": {
            "_dom_classes": [],
            "_model_module": "@jupyter-widgets/controls",
            "_model_module_version": "1.5.0",
            "_model_name": "FloatProgressModel",
            "_view_count": null,
            "_view_module": "@jupyter-widgets/controls",
            "_view_module_version": "1.5.0",
            "_view_name": "ProgressView",
            "bar_style": "",
            "description": "",
            "description_tooltip": null,
            "layout": "IPY_MODEL_4ecb1dc72e134882bde73b4986c919f5",
            "max": 2,
            "min": 0,
            "orientation": "horizontal",
            "style": "IPY_MODEL_9e6e1fe88067415b8a62b15c146621c8",
            "value": 2
          }
        },
        "6677d498541a47c09939b2a7e2dc5bc3": {
          "model_module": "@jupyter-widgets/controls",
          "model_name": "HTMLModel",
          "model_module_version": "1.5.0",
          "state": {
            "_dom_classes": [],
            "_model_module": "@jupyter-widgets/controls",
            "_model_module_version": "1.5.0",
            "_model_name": "HTMLModel",
            "_view_count": null,
            "_view_module": "@jupyter-widgets/controls",
            "_view_module_version": "1.5.0",
            "_view_name": "HTMLView",
            "description": "",
            "description_tooltip": null,
            "layout": "IPY_MODEL_3c7ba5686b214d149ed332ed2e208404",
            "placeholder": "​",
            "style": "IPY_MODEL_9ae667b017924539899c0126ab49b99f",
            "value": " 2/2 [07:41&lt;00:00, 201.67s/ splits]"
          }
        },
        "4e6a1d648baf416aa4183c8ddb0a9046": {
          "model_module": "@jupyter-widgets/base",
          "model_name": "LayoutModel",
          "model_module_version": "1.2.0",
          "state": {
            "_model_module": "@jupyter-widgets/base",
            "_model_module_version": "1.2.0",
            "_model_name": "LayoutModel",
            "_view_count": null,
            "_view_module": "@jupyter-widgets/base",
            "_view_module_version": "1.2.0",
            "_view_name": "LayoutView",
            "align_content": null,
            "align_items": null,
            "align_self": null,
            "border": null,
            "bottom": null,
            "display": null,
            "flex": null,
            "flex_flow": null,
            "grid_area": null,
            "grid_auto_columns": null,
            "grid_auto_flow": null,
            "grid_auto_rows": null,
            "grid_column": null,
            "grid_gap": null,
            "grid_row": null,
            "grid_template_areas": null,
            "grid_template_columns": null,
            "grid_template_rows": null,
            "height": null,
            "justify_content": null,
            "justify_items": null,
            "left": null,
            "margin": null,
            "max_height": null,
            "max_width": null,
            "min_height": null,
            "min_width": null,
            "object_fit": null,
            "object_position": null,
            "order": null,
            "overflow": null,
            "overflow_x": null,
            "overflow_y": null,
            "padding": null,
            "right": null,
            "top": null,
            "visibility": "hidden",
            "width": null
          }
        },
        "95f39c8f6bcd48bb87e917d312951413": {
          "model_module": "@jupyter-widgets/base",
          "model_name": "LayoutModel",
          "model_module_version": "1.2.0",
          "state": {
            "_model_module": "@jupyter-widgets/base",
            "_model_module_version": "1.2.0",
            "_model_name": "LayoutModel",
            "_view_count": null,
            "_view_module": "@jupyter-widgets/base",
            "_view_module_version": "1.2.0",
            "_view_name": "LayoutView",
            "align_content": null,
            "align_items": null,
            "align_self": null,
            "border": null,
            "bottom": null,
            "display": null,
            "flex": null,
            "flex_flow": null,
            "grid_area": null,
            "grid_auto_columns": null,
            "grid_auto_flow": null,
            "grid_auto_rows": null,
            "grid_column": null,
            "grid_gap": null,
            "grid_row": null,
            "grid_template_areas": null,
            "grid_template_columns": null,
            "grid_template_rows": null,
            "height": null,
            "justify_content": null,
            "justify_items": null,
            "left": null,
            "margin": null,
            "max_height": null,
            "max_width": null,
            "min_height": null,
            "min_width": null,
            "object_fit": null,
            "object_position": null,
            "order": null,
            "overflow": null,
            "overflow_x": null,
            "overflow_y": null,
            "padding": null,
            "right": null,
            "top": null,
            "visibility": null,
            "width": null
          }
        },
        "96ce4101d0794236a8f657346d0f6e70": {
          "model_module": "@jupyter-widgets/controls",
          "model_name": "DescriptionStyleModel",
          "model_module_version": "1.5.0",
          "state": {
            "_model_module": "@jupyter-widgets/controls",
            "_model_module_version": "1.5.0",
            "_model_name": "DescriptionStyleModel",
            "_view_count": null,
            "_view_module": "@jupyter-widgets/base",
            "_view_module_version": "1.2.0",
            "_view_name": "StyleView",
            "description_width": ""
          }
        },
        "4ecb1dc72e134882bde73b4986c919f5": {
          "model_module": "@jupyter-widgets/base",
          "model_name": "LayoutModel",
          "model_module_version": "1.2.0",
          "state": {
            "_model_module": "@jupyter-widgets/base",
            "_model_module_version": "1.2.0",
            "_model_name": "LayoutModel",
            "_view_count": null,
            "_view_module": "@jupyter-widgets/base",
            "_view_module_version": "1.2.0",
            "_view_name": "LayoutView",
            "align_content": null,
            "align_items": null,
            "align_self": null,
            "border": null,
            "bottom": null,
            "display": null,
            "flex": null,
            "flex_flow": null,
            "grid_area": null,
            "grid_auto_columns": null,
            "grid_auto_flow": null,
            "grid_auto_rows": null,
            "grid_column": null,
            "grid_gap": null,
            "grid_row": null,
            "grid_template_areas": null,
            "grid_template_columns": null,
            "grid_template_rows": null,
            "height": null,
            "justify_content": null,
            "justify_items": null,
            "left": null,
            "margin": null,
            "max_height": null,
            "max_width": null,
            "min_height": null,
            "min_width": null,
            "object_fit": null,
            "object_position": null,
            "order": null,
            "overflow": null,
            "overflow_x": null,
            "overflow_y": null,
            "padding": null,
            "right": null,
            "top": null,
            "visibility": null,
            "width": null
          }
        },
        "9e6e1fe88067415b8a62b15c146621c8": {
          "model_module": "@jupyter-widgets/controls",
          "model_name": "ProgressStyleModel",
          "model_module_version": "1.5.0",
          "state": {
            "_model_module": "@jupyter-widgets/controls",
            "_model_module_version": "1.5.0",
            "_model_name": "ProgressStyleModel",
            "_view_count": null,
            "_view_module": "@jupyter-widgets/base",
            "_view_module_version": "1.2.0",
            "_view_name": "StyleView",
            "bar_color": null,
            "description_width": ""
          }
        },
        "3c7ba5686b214d149ed332ed2e208404": {
          "model_module": "@jupyter-widgets/base",
          "model_name": "LayoutModel",
          "model_module_version": "1.2.0",
          "state": {
            "_model_module": "@jupyter-widgets/base",
            "_model_module_version": "1.2.0",
            "_model_name": "LayoutModel",
            "_view_count": null,
            "_view_module": "@jupyter-widgets/base",
            "_view_module_version": "1.2.0",
            "_view_name": "LayoutView",
            "align_content": null,
            "align_items": null,
            "align_self": null,
            "border": null,
            "bottom": null,
            "display": null,
            "flex": null,
            "flex_flow": null,
            "grid_area": null,
            "grid_auto_columns": null,
            "grid_auto_flow": null,
            "grid_auto_rows": null,
            "grid_column": null,
            "grid_gap": null,
            "grid_row": null,
            "grid_template_areas": null,
            "grid_template_columns": null,
            "grid_template_rows": null,
            "height": null,
            "justify_content": null,
            "justify_items": null,
            "left": null,
            "margin": null,
            "max_height": null,
            "max_width": null,
            "min_height": null,
            "min_width": null,
            "object_fit": null,
            "object_position": null,
            "order": null,
            "overflow": null,
            "overflow_x": null,
            "overflow_y": null,
            "padding": null,
            "right": null,
            "top": null,
            "visibility": null,
            "width": null
          }
        },
        "9ae667b017924539899c0126ab49b99f": {
          "model_module": "@jupyter-widgets/controls",
          "model_name": "DescriptionStyleModel",
          "model_module_version": "1.5.0",
          "state": {
            "_model_module": "@jupyter-widgets/controls",
            "_model_module_version": "1.5.0",
            "_model_name": "DescriptionStyleModel",
            "_view_count": null,
            "_view_module": "@jupyter-widgets/base",
            "_view_module_version": "1.2.0",
            "_view_name": "StyleView",
            "description_width": ""
          }
        },
        "4068d6e39d8b4ca98670ee84bd632af7": {
          "model_module": "@jupyter-widgets/controls",
          "model_name": "HBoxModel",
          "model_module_version": "1.5.0",
          "state": {
            "_dom_classes": [],
            "_model_module": "@jupyter-widgets/controls",
            "_model_module_version": "1.5.0",
            "_model_name": "HBoxModel",
            "_view_count": null,
            "_view_module": "@jupyter-widgets/controls",
            "_view_module_version": "1.5.0",
            "_view_name": "HBoxView",
            "box_style": "",
            "children": [
              "IPY_MODEL_e927903d0ac54c3dafa369b56956f9b6",
              "IPY_MODEL_742cbe4c42584342b07cb4f4096c0f5e",
              "IPY_MODEL_0f1514bf23844692ba9189e7d6fd8fb4"
            ],
            "layout": "IPY_MODEL_42c06cbc466049e4829ee7e3dfae1bf5"
          }
        },
        "e927903d0ac54c3dafa369b56956f9b6": {
          "model_module": "@jupyter-widgets/controls",
          "model_name": "HTMLModel",
          "model_module_version": "1.5.0",
          "state": {
            "_dom_classes": [],
            "_model_module": "@jupyter-widgets/controls",
            "_model_module_version": "1.5.0",
            "_model_name": "HTMLModel",
            "_view_count": null,
            "_view_module": "@jupyter-widgets/controls",
            "_view_module_version": "1.5.0",
            "_view_name": "HTMLView",
            "description": "",
            "description_tooltip": null,
            "layout": "IPY_MODEL_aed3c00cc9534654af3f0d2da39d353e",
            "placeholder": "​",
            "style": "IPY_MODEL_23d36e4041124679be29aed27973c8da",
            "value": "Generating train examples...: 100%"
          }
        },
        "742cbe4c42584342b07cb4f4096c0f5e": {
          "model_module": "@jupyter-widgets/controls",
          "model_name": "FloatProgressModel",
          "model_module_version": "1.5.0",
          "state": {
            "_dom_classes": [],
            "_model_module": "@jupyter-widgets/controls",
            "_model_module_version": "1.5.0",
            "_model_name": "FloatProgressModel",
            "_view_count": null,
            "_view_module": "@jupyter-widgets/controls",
            "_view_module_version": "1.5.0",
            "_view_name": "ProgressView",
            "bar_style": "",
            "description": "",
            "description_tooltip": null,
            "layout": "IPY_MODEL_9f031e878e874d658c946d9455e7e80a",
            "max": 697932,
            "min": 0,
            "orientation": "horizontal",
            "style": "IPY_MODEL_c0483227171e49d9989712d2eca2d3cb",
            "value": 697932
          }
        },
        "0f1514bf23844692ba9189e7d6fd8fb4": {
          "model_module": "@jupyter-widgets/controls",
          "model_name": "HTMLModel",
          "model_module_version": "1.5.0",
          "state": {
            "_dom_classes": [],
            "_model_module": "@jupyter-widgets/controls",
            "_model_module_version": "1.5.0",
            "_model_name": "HTMLModel",
            "_view_count": null,
            "_view_module": "@jupyter-widgets/controls",
            "_view_module_version": "1.5.0",
            "_view_name": "HTMLView",
            "description": "",
            "description_tooltip": null,
            "layout": "IPY_MODEL_ab6adc9ed1b447e48394586fd9251ee9",
            "placeholder": "​",
            "style": "IPY_MODEL_2a667ccd5c0b45e281b4708b5a5c0ced",
            "value": " 696148/697932 [06:18&lt;00:00, 1848.79 examples/s]"
          }
        },
        "42c06cbc466049e4829ee7e3dfae1bf5": {
          "model_module": "@jupyter-widgets/base",
          "model_name": "LayoutModel",
          "model_module_version": "1.2.0",
          "state": {
            "_model_module": "@jupyter-widgets/base",
            "_model_module_version": "1.2.0",
            "_model_name": "LayoutModel",
            "_view_count": null,
            "_view_module": "@jupyter-widgets/base",
            "_view_module_version": "1.2.0",
            "_view_name": "LayoutView",
            "align_content": null,
            "align_items": null,
            "align_self": null,
            "border": null,
            "bottom": null,
            "display": null,
            "flex": null,
            "flex_flow": null,
            "grid_area": null,
            "grid_auto_columns": null,
            "grid_auto_flow": null,
            "grid_auto_rows": null,
            "grid_column": null,
            "grid_gap": null,
            "grid_row": null,
            "grid_template_areas": null,
            "grid_template_columns": null,
            "grid_template_rows": null,
            "height": null,
            "justify_content": null,
            "justify_items": null,
            "left": null,
            "margin": null,
            "max_height": null,
            "max_width": null,
            "min_height": null,
            "min_width": null,
            "object_fit": null,
            "object_position": null,
            "order": null,
            "overflow": null,
            "overflow_x": null,
            "overflow_y": null,
            "padding": null,
            "right": null,
            "top": null,
            "visibility": "hidden",
            "width": null
          }
        },
        "aed3c00cc9534654af3f0d2da39d353e": {
          "model_module": "@jupyter-widgets/base",
          "model_name": "LayoutModel",
          "model_module_version": "1.2.0",
          "state": {
            "_model_module": "@jupyter-widgets/base",
            "_model_module_version": "1.2.0",
            "_model_name": "LayoutModel",
            "_view_count": null,
            "_view_module": "@jupyter-widgets/base",
            "_view_module_version": "1.2.0",
            "_view_name": "LayoutView",
            "align_content": null,
            "align_items": null,
            "align_self": null,
            "border": null,
            "bottom": null,
            "display": null,
            "flex": null,
            "flex_flow": null,
            "grid_area": null,
            "grid_auto_columns": null,
            "grid_auto_flow": null,
            "grid_auto_rows": null,
            "grid_column": null,
            "grid_gap": null,
            "grid_row": null,
            "grid_template_areas": null,
            "grid_template_columns": null,
            "grid_template_rows": null,
            "height": null,
            "justify_content": null,
            "justify_items": null,
            "left": null,
            "margin": null,
            "max_height": null,
            "max_width": null,
            "min_height": null,
            "min_width": null,
            "object_fit": null,
            "object_position": null,
            "order": null,
            "overflow": null,
            "overflow_x": null,
            "overflow_y": null,
            "padding": null,
            "right": null,
            "top": null,
            "visibility": null,
            "width": null
          }
        },
        "23d36e4041124679be29aed27973c8da": {
          "model_module": "@jupyter-widgets/controls",
          "model_name": "DescriptionStyleModel",
          "model_module_version": "1.5.0",
          "state": {
            "_model_module": "@jupyter-widgets/controls",
            "_model_module_version": "1.5.0",
            "_model_name": "DescriptionStyleModel",
            "_view_count": null,
            "_view_module": "@jupyter-widgets/base",
            "_view_module_version": "1.2.0",
            "_view_name": "StyleView",
            "description_width": ""
          }
        },
        "9f031e878e874d658c946d9455e7e80a": {
          "model_module": "@jupyter-widgets/base",
          "model_name": "LayoutModel",
          "model_module_version": "1.2.0",
          "state": {
            "_model_module": "@jupyter-widgets/base",
            "_model_module_version": "1.2.0",
            "_model_name": "LayoutModel",
            "_view_count": null,
            "_view_module": "@jupyter-widgets/base",
            "_view_module_version": "1.2.0",
            "_view_name": "LayoutView",
            "align_content": null,
            "align_items": null,
            "align_self": null,
            "border": null,
            "bottom": null,
            "display": null,
            "flex": null,
            "flex_flow": null,
            "grid_area": null,
            "grid_auto_columns": null,
            "grid_auto_flow": null,
            "grid_auto_rows": null,
            "grid_column": null,
            "grid_gap": null,
            "grid_row": null,
            "grid_template_areas": null,
            "grid_template_columns": null,
            "grid_template_rows": null,
            "height": null,
            "justify_content": null,
            "justify_items": null,
            "left": null,
            "margin": null,
            "max_height": null,
            "max_width": null,
            "min_height": null,
            "min_width": null,
            "object_fit": null,
            "object_position": null,
            "order": null,
            "overflow": null,
            "overflow_x": null,
            "overflow_y": null,
            "padding": null,
            "right": null,
            "top": null,
            "visibility": null,
            "width": null
          }
        },
        "c0483227171e49d9989712d2eca2d3cb": {
          "model_module": "@jupyter-widgets/controls",
          "model_name": "ProgressStyleModel",
          "model_module_version": "1.5.0",
          "state": {
            "_model_module": "@jupyter-widgets/controls",
            "_model_module_version": "1.5.0",
            "_model_name": "ProgressStyleModel",
            "_view_count": null,
            "_view_module": "@jupyter-widgets/base",
            "_view_module_version": "1.2.0",
            "_view_name": "StyleView",
            "bar_color": null,
            "description_width": ""
          }
        },
        "ab6adc9ed1b447e48394586fd9251ee9": {
          "model_module": "@jupyter-widgets/base",
          "model_name": "LayoutModel",
          "model_module_version": "1.2.0",
          "state": {
            "_model_module": "@jupyter-widgets/base",
            "_model_module_version": "1.2.0",
            "_model_name": "LayoutModel",
            "_view_count": null,
            "_view_module": "@jupyter-widgets/base",
            "_view_module_version": "1.2.0",
            "_view_name": "LayoutView",
            "align_content": null,
            "align_items": null,
            "align_self": null,
            "border": null,
            "bottom": null,
            "display": null,
            "flex": null,
            "flex_flow": null,
            "grid_area": null,
            "grid_auto_columns": null,
            "grid_auto_flow": null,
            "grid_auto_rows": null,
            "grid_column": null,
            "grid_gap": null,
            "grid_row": null,
            "grid_template_areas": null,
            "grid_template_columns": null,
            "grid_template_rows": null,
            "height": null,
            "justify_content": null,
            "justify_items": null,
            "left": null,
            "margin": null,
            "max_height": null,
            "max_width": null,
            "min_height": null,
            "min_width": null,
            "object_fit": null,
            "object_position": null,
            "order": null,
            "overflow": null,
            "overflow_x": null,
            "overflow_y": null,
            "padding": null,
            "right": null,
            "top": null,
            "visibility": null,
            "width": null
          }
        },
        "2a667ccd5c0b45e281b4708b5a5c0ced": {
          "model_module": "@jupyter-widgets/controls",
          "model_name": "DescriptionStyleModel",
          "model_module_version": "1.5.0",
          "state": {
            "_model_module": "@jupyter-widgets/controls",
            "_model_module_version": "1.5.0",
            "_model_name": "DescriptionStyleModel",
            "_view_count": null,
            "_view_module": "@jupyter-widgets/base",
            "_view_module_version": "1.2.0",
            "_view_name": "StyleView",
            "description_width": ""
          }
        },
        "b6273b0813754b359d183d300d665273": {
          "model_module": "@jupyter-widgets/controls",
          "model_name": "HBoxModel",
          "model_module_version": "1.5.0",
          "state": {
            "_dom_classes": [],
            "_model_module": "@jupyter-widgets/controls",
            "_model_module_version": "1.5.0",
            "_model_name": "HBoxModel",
            "_view_count": null,
            "_view_module": "@jupyter-widgets/controls",
            "_view_module_version": "1.5.0",
            "_view_name": "HBoxView",
            "box_style": "",
            "children": [
              "IPY_MODEL_295c1ad592e24b7d89c3ded505493a06",
              "IPY_MODEL_19bcd8fc8edf4c669764d37ef541b66c",
              "IPY_MODEL_190b6bc9dc304a2789852c4e93fbc898"
            ],
            "layout": "IPY_MODEL_f4fcb37fb1ab4af09d0d774c5e628f3d"
          }
        },
        "295c1ad592e24b7d89c3ded505493a06": {
          "model_module": "@jupyter-widgets/controls",
          "model_name": "HTMLModel",
          "model_module_version": "1.5.0",
          "state": {
            "_dom_classes": [],
            "_model_module": "@jupyter-widgets/controls",
            "_model_module_version": "1.5.0",
            "_model_name": "HTMLModel",
            "_view_count": null,
            "_view_module": "@jupyter-widgets/controls",
            "_view_module_version": "1.5.0",
            "_view_name": "HTMLView",
            "description": "",
            "description_tooltip": null,
            "layout": "IPY_MODEL_72b379ee0d464e6bb504c9be5ecf6b8a",
            "placeholder": "​",
            "style": "IPY_MODEL_a020f7a4cd7640bfa57ec2ddc2251ea6",
            "value": "Shuffling /root/tensorflow_datasets/emnist/byclass/incomplete.XOS1G6_3.1.0/emnist-train.array_record*...:  95%"
          }
        },
        "19bcd8fc8edf4c669764d37ef541b66c": {
          "model_module": "@jupyter-widgets/controls",
          "model_name": "FloatProgressModel",
          "model_module_version": "1.5.0",
          "state": {
            "_dom_classes": [],
            "_model_module": "@jupyter-widgets/controls",
            "_model_module_version": "1.5.0",
            "_model_name": "FloatProgressModel",
            "_view_count": null,
            "_view_module": "@jupyter-widgets/controls",
            "_view_module_version": "1.5.0",
            "_view_name": "ProgressView",
            "bar_style": "",
            "description": "",
            "description_tooltip": null,
            "layout": "IPY_MODEL_1449ba3106ed4c059dd37de3d6fa58d0",
            "max": 697932,
            "min": 0,
            "orientation": "horizontal",
            "style": "IPY_MODEL_82439edee9e442e799c88501eb562402",
            "value": 697932
          }
        },
        "190b6bc9dc304a2789852c4e93fbc898": {
          "model_module": "@jupyter-widgets/controls",
          "model_name": "HTMLModel",
          "model_module_version": "1.5.0",
          "state": {
            "_dom_classes": [],
            "_model_module": "@jupyter-widgets/controls",
            "_model_module_version": "1.5.0",
            "_model_name": "HTMLModel",
            "_view_count": null,
            "_view_module": "@jupyter-widgets/controls",
            "_view_module_version": "1.5.0",
            "_view_name": "HTMLView",
            "description": "",
            "description_tooltip": null,
            "layout": "IPY_MODEL_1b82b0891be6436d93fed4be23d0a908",
            "placeholder": "​",
            "style": "IPY_MODEL_8474290ced084acaa71333ed70a9e79a",
            "value": " 662774/697932 [00:16&lt;00:00, 43644.15 examples/s]"
          }
        },
        "f4fcb37fb1ab4af09d0d774c5e628f3d": {
          "model_module": "@jupyter-widgets/base",
          "model_name": "LayoutModel",
          "model_module_version": "1.2.0",
          "state": {
            "_model_module": "@jupyter-widgets/base",
            "_model_module_version": "1.2.0",
            "_model_name": "LayoutModel",
            "_view_count": null,
            "_view_module": "@jupyter-widgets/base",
            "_view_module_version": "1.2.0",
            "_view_name": "LayoutView",
            "align_content": null,
            "align_items": null,
            "align_self": null,
            "border": null,
            "bottom": null,
            "display": null,
            "flex": null,
            "flex_flow": null,
            "grid_area": null,
            "grid_auto_columns": null,
            "grid_auto_flow": null,
            "grid_auto_rows": null,
            "grid_column": null,
            "grid_gap": null,
            "grid_row": null,
            "grid_template_areas": null,
            "grid_template_columns": null,
            "grid_template_rows": null,
            "height": null,
            "justify_content": null,
            "justify_items": null,
            "left": null,
            "margin": null,
            "max_height": null,
            "max_width": null,
            "min_height": null,
            "min_width": null,
            "object_fit": null,
            "object_position": null,
            "order": null,
            "overflow": null,
            "overflow_x": null,
            "overflow_y": null,
            "padding": null,
            "right": null,
            "top": null,
            "visibility": "hidden",
            "width": null
          }
        },
        "72b379ee0d464e6bb504c9be5ecf6b8a": {
          "model_module": "@jupyter-widgets/base",
          "model_name": "LayoutModel",
          "model_module_version": "1.2.0",
          "state": {
            "_model_module": "@jupyter-widgets/base",
            "_model_module_version": "1.2.0",
            "_model_name": "LayoutModel",
            "_view_count": null,
            "_view_module": "@jupyter-widgets/base",
            "_view_module_version": "1.2.0",
            "_view_name": "LayoutView",
            "align_content": null,
            "align_items": null,
            "align_self": null,
            "border": null,
            "bottom": null,
            "display": null,
            "flex": null,
            "flex_flow": null,
            "grid_area": null,
            "grid_auto_columns": null,
            "grid_auto_flow": null,
            "grid_auto_rows": null,
            "grid_column": null,
            "grid_gap": null,
            "grid_row": null,
            "grid_template_areas": null,
            "grid_template_columns": null,
            "grid_template_rows": null,
            "height": null,
            "justify_content": null,
            "justify_items": null,
            "left": null,
            "margin": null,
            "max_height": null,
            "max_width": null,
            "min_height": null,
            "min_width": null,
            "object_fit": null,
            "object_position": null,
            "order": null,
            "overflow": null,
            "overflow_x": null,
            "overflow_y": null,
            "padding": null,
            "right": null,
            "top": null,
            "visibility": null,
            "width": null
          }
        },
        "a020f7a4cd7640bfa57ec2ddc2251ea6": {
          "model_module": "@jupyter-widgets/controls",
          "model_name": "DescriptionStyleModel",
          "model_module_version": "1.5.0",
          "state": {
            "_model_module": "@jupyter-widgets/controls",
            "_model_module_version": "1.5.0",
            "_model_name": "DescriptionStyleModel",
            "_view_count": null,
            "_view_module": "@jupyter-widgets/base",
            "_view_module_version": "1.2.0",
            "_view_name": "StyleView",
            "description_width": ""
          }
        },
        "1449ba3106ed4c059dd37de3d6fa58d0": {
          "model_module": "@jupyter-widgets/base",
          "model_name": "LayoutModel",
          "model_module_version": "1.2.0",
          "state": {
            "_model_module": "@jupyter-widgets/base",
            "_model_module_version": "1.2.0",
            "_model_name": "LayoutModel",
            "_view_count": null,
            "_view_module": "@jupyter-widgets/base",
            "_view_module_version": "1.2.0",
            "_view_name": "LayoutView",
            "align_content": null,
            "align_items": null,
            "align_self": null,
            "border": null,
            "bottom": null,
            "display": null,
            "flex": null,
            "flex_flow": null,
            "grid_area": null,
            "grid_auto_columns": null,
            "grid_auto_flow": null,
            "grid_auto_rows": null,
            "grid_column": null,
            "grid_gap": null,
            "grid_row": null,
            "grid_template_areas": null,
            "grid_template_columns": null,
            "grid_template_rows": null,
            "height": null,
            "justify_content": null,
            "justify_items": null,
            "left": null,
            "margin": null,
            "max_height": null,
            "max_width": null,
            "min_height": null,
            "min_width": null,
            "object_fit": null,
            "object_position": null,
            "order": null,
            "overflow": null,
            "overflow_x": null,
            "overflow_y": null,
            "padding": null,
            "right": null,
            "top": null,
            "visibility": null,
            "width": null
          }
        },
        "82439edee9e442e799c88501eb562402": {
          "model_module": "@jupyter-widgets/controls",
          "model_name": "ProgressStyleModel",
          "model_module_version": "1.5.0",
          "state": {
            "_model_module": "@jupyter-widgets/controls",
            "_model_module_version": "1.5.0",
            "_model_name": "ProgressStyleModel",
            "_view_count": null,
            "_view_module": "@jupyter-widgets/base",
            "_view_module_version": "1.2.0",
            "_view_name": "StyleView",
            "bar_color": null,
            "description_width": ""
          }
        },
        "1b82b0891be6436d93fed4be23d0a908": {
          "model_module": "@jupyter-widgets/base",
          "model_name": "LayoutModel",
          "model_module_version": "1.2.0",
          "state": {
            "_model_module": "@jupyter-widgets/base",
            "_model_module_version": "1.2.0",
            "_model_name": "LayoutModel",
            "_view_count": null,
            "_view_module": "@jupyter-widgets/base",
            "_view_module_version": "1.2.0",
            "_view_name": "LayoutView",
            "align_content": null,
            "align_items": null,
            "align_self": null,
            "border": null,
            "bottom": null,
            "display": null,
            "flex": null,
            "flex_flow": null,
            "grid_area": null,
            "grid_auto_columns": null,
            "grid_auto_flow": null,
            "grid_auto_rows": null,
            "grid_column": null,
            "grid_gap": null,
            "grid_row": null,
            "grid_template_areas": null,
            "grid_template_columns": null,
            "grid_template_rows": null,
            "height": null,
            "justify_content": null,
            "justify_items": null,
            "left": null,
            "margin": null,
            "max_height": null,
            "max_width": null,
            "min_height": null,
            "min_width": null,
            "object_fit": null,
            "object_position": null,
            "order": null,
            "overflow": null,
            "overflow_x": null,
            "overflow_y": null,
            "padding": null,
            "right": null,
            "top": null,
            "visibility": null,
            "width": null
          }
        },
        "8474290ced084acaa71333ed70a9e79a": {
          "model_module": "@jupyter-widgets/controls",
          "model_name": "DescriptionStyleModel",
          "model_module_version": "1.5.0",
          "state": {
            "_model_module": "@jupyter-widgets/controls",
            "_model_module_version": "1.5.0",
            "_model_name": "DescriptionStyleModel",
            "_view_count": null,
            "_view_module": "@jupyter-widgets/base",
            "_view_module_version": "1.2.0",
            "_view_name": "StyleView",
            "description_width": ""
          }
        },
        "6f3a88fb8e3540348215934546e7ba0d": {
          "model_module": "@jupyter-widgets/controls",
          "model_name": "HBoxModel",
          "model_module_version": "1.5.0",
          "state": {
            "_dom_classes": [],
            "_model_module": "@jupyter-widgets/controls",
            "_model_module_version": "1.5.0",
            "_model_name": "HBoxModel",
            "_view_count": null,
            "_view_module": "@jupyter-widgets/controls",
            "_view_module_version": "1.5.0",
            "_view_name": "HBoxView",
            "box_style": "",
            "children": [
              "IPY_MODEL_2ee213fcadf54de9ab6f281e515afe2a",
              "IPY_MODEL_4a5271c909b540fa8613506450268795",
              "IPY_MODEL_10e2dac61d8c4854b8c26183813ab4b2"
            ],
            "layout": "IPY_MODEL_116a4e57f3b2404fbd92af39a73f754c"
          }
        },
        "2ee213fcadf54de9ab6f281e515afe2a": {
          "model_module": "@jupyter-widgets/controls",
          "model_name": "HTMLModel",
          "model_module_version": "1.5.0",
          "state": {
            "_dom_classes": [],
            "_model_module": "@jupyter-widgets/controls",
            "_model_module_version": "1.5.0",
            "_model_name": "HTMLModel",
            "_view_count": null,
            "_view_module": "@jupyter-widgets/controls",
            "_view_module_version": "1.5.0",
            "_view_name": "HTMLView",
            "description": "",
            "description_tooltip": null,
            "layout": "IPY_MODEL_8a8dc9dc974644a89b02675fad6130d2",
            "placeholder": "​",
            "style": "IPY_MODEL_82a31e4a3a124ea1964542b97db6a45e",
            "value": "Generating test examples...:  99%"
          }
        },
        "4a5271c909b540fa8613506450268795": {
          "model_module": "@jupyter-widgets/controls",
          "model_name": "FloatProgressModel",
          "model_module_version": "1.5.0",
          "state": {
            "_dom_classes": [],
            "_model_module": "@jupyter-widgets/controls",
            "_model_module_version": "1.5.0",
            "_model_name": "FloatProgressModel",
            "_view_count": null,
            "_view_module": "@jupyter-widgets/controls",
            "_view_module_version": "1.5.0",
            "_view_name": "ProgressView",
            "bar_style": "",
            "description": "",
            "description_tooltip": null,
            "layout": "IPY_MODEL_e70d69001e36447a828737ac001e84d1",
            "max": 116323,
            "min": 0,
            "orientation": "horizontal",
            "style": "IPY_MODEL_494d2caae1da43abbb673f0c71ec8ba6",
            "value": 116323
          }
        },
        "10e2dac61d8c4854b8c26183813ab4b2": {
          "model_module": "@jupyter-widgets/controls",
          "model_name": "HTMLModel",
          "model_module_version": "1.5.0",
          "state": {
            "_dom_classes": [],
            "_model_module": "@jupyter-widgets/controls",
            "_model_module_version": "1.5.0",
            "_model_name": "HTMLModel",
            "_view_count": null,
            "_view_module": "@jupyter-widgets/controls",
            "_view_module_version": "1.5.0",
            "_view_name": "HTMLView",
            "description": "",
            "description_tooltip": null,
            "layout": "IPY_MODEL_c44246f150574cf4854467316ca4c4b2",
            "placeholder": "​",
            "style": "IPY_MODEL_77306a0dc094452ba3c0767cb1197e48",
            "value": " 115129/116323 [01:01&lt;00:00, 1838.17 examples/s]"
          }
        },
        "116a4e57f3b2404fbd92af39a73f754c": {
          "model_module": "@jupyter-widgets/base",
          "model_name": "LayoutModel",
          "model_module_version": "1.2.0",
          "state": {
            "_model_module": "@jupyter-widgets/base",
            "_model_module_version": "1.2.0",
            "_model_name": "LayoutModel",
            "_view_count": null,
            "_view_module": "@jupyter-widgets/base",
            "_view_module_version": "1.2.0",
            "_view_name": "LayoutView",
            "align_content": null,
            "align_items": null,
            "align_self": null,
            "border": null,
            "bottom": null,
            "display": null,
            "flex": null,
            "flex_flow": null,
            "grid_area": null,
            "grid_auto_columns": null,
            "grid_auto_flow": null,
            "grid_auto_rows": null,
            "grid_column": null,
            "grid_gap": null,
            "grid_row": null,
            "grid_template_areas": null,
            "grid_template_columns": null,
            "grid_template_rows": null,
            "height": null,
            "justify_content": null,
            "justify_items": null,
            "left": null,
            "margin": null,
            "max_height": null,
            "max_width": null,
            "min_height": null,
            "min_width": null,
            "object_fit": null,
            "object_position": null,
            "order": null,
            "overflow": null,
            "overflow_x": null,
            "overflow_y": null,
            "padding": null,
            "right": null,
            "top": null,
            "visibility": "hidden",
            "width": null
          }
        },
        "8a8dc9dc974644a89b02675fad6130d2": {
          "model_module": "@jupyter-widgets/base",
          "model_name": "LayoutModel",
          "model_module_version": "1.2.0",
          "state": {
            "_model_module": "@jupyter-widgets/base",
            "_model_module_version": "1.2.0",
            "_model_name": "LayoutModel",
            "_view_count": null,
            "_view_module": "@jupyter-widgets/base",
            "_view_module_version": "1.2.0",
            "_view_name": "LayoutView",
            "align_content": null,
            "align_items": null,
            "align_self": null,
            "border": null,
            "bottom": null,
            "display": null,
            "flex": null,
            "flex_flow": null,
            "grid_area": null,
            "grid_auto_columns": null,
            "grid_auto_flow": null,
            "grid_auto_rows": null,
            "grid_column": null,
            "grid_gap": null,
            "grid_row": null,
            "grid_template_areas": null,
            "grid_template_columns": null,
            "grid_template_rows": null,
            "height": null,
            "justify_content": null,
            "justify_items": null,
            "left": null,
            "margin": null,
            "max_height": null,
            "max_width": null,
            "min_height": null,
            "min_width": null,
            "object_fit": null,
            "object_position": null,
            "order": null,
            "overflow": null,
            "overflow_x": null,
            "overflow_y": null,
            "padding": null,
            "right": null,
            "top": null,
            "visibility": null,
            "width": null
          }
        },
        "82a31e4a3a124ea1964542b97db6a45e": {
          "model_module": "@jupyter-widgets/controls",
          "model_name": "DescriptionStyleModel",
          "model_module_version": "1.5.0",
          "state": {
            "_model_module": "@jupyter-widgets/controls",
            "_model_module_version": "1.5.0",
            "_model_name": "DescriptionStyleModel",
            "_view_count": null,
            "_view_module": "@jupyter-widgets/base",
            "_view_module_version": "1.2.0",
            "_view_name": "StyleView",
            "description_width": ""
          }
        },
        "e70d69001e36447a828737ac001e84d1": {
          "model_module": "@jupyter-widgets/base",
          "model_name": "LayoutModel",
          "model_module_version": "1.2.0",
          "state": {
            "_model_module": "@jupyter-widgets/base",
            "_model_module_version": "1.2.0",
            "_model_name": "LayoutModel",
            "_view_count": null,
            "_view_module": "@jupyter-widgets/base",
            "_view_module_version": "1.2.0",
            "_view_name": "LayoutView",
            "align_content": null,
            "align_items": null,
            "align_self": null,
            "border": null,
            "bottom": null,
            "display": null,
            "flex": null,
            "flex_flow": null,
            "grid_area": null,
            "grid_auto_columns": null,
            "grid_auto_flow": null,
            "grid_auto_rows": null,
            "grid_column": null,
            "grid_gap": null,
            "grid_row": null,
            "grid_template_areas": null,
            "grid_template_columns": null,
            "grid_template_rows": null,
            "height": null,
            "justify_content": null,
            "justify_items": null,
            "left": null,
            "margin": null,
            "max_height": null,
            "max_width": null,
            "min_height": null,
            "min_width": null,
            "object_fit": null,
            "object_position": null,
            "order": null,
            "overflow": null,
            "overflow_x": null,
            "overflow_y": null,
            "padding": null,
            "right": null,
            "top": null,
            "visibility": null,
            "width": null
          }
        },
        "494d2caae1da43abbb673f0c71ec8ba6": {
          "model_module": "@jupyter-widgets/controls",
          "model_name": "ProgressStyleModel",
          "model_module_version": "1.5.0",
          "state": {
            "_model_module": "@jupyter-widgets/controls",
            "_model_module_version": "1.5.0",
            "_model_name": "ProgressStyleModel",
            "_view_count": null,
            "_view_module": "@jupyter-widgets/base",
            "_view_module_version": "1.2.0",
            "_view_name": "StyleView",
            "bar_color": null,
            "description_width": ""
          }
        },
        "c44246f150574cf4854467316ca4c4b2": {
          "model_module": "@jupyter-widgets/base",
          "model_name": "LayoutModel",
          "model_module_version": "1.2.0",
          "state": {
            "_model_module": "@jupyter-widgets/base",
            "_model_module_version": "1.2.0",
            "_model_name": "LayoutModel",
            "_view_count": null,
            "_view_module": "@jupyter-widgets/base",
            "_view_module_version": "1.2.0",
            "_view_name": "LayoutView",
            "align_content": null,
            "align_items": null,
            "align_self": null,
            "border": null,
            "bottom": null,
            "display": null,
            "flex": null,
            "flex_flow": null,
            "grid_area": null,
            "grid_auto_columns": null,
            "grid_auto_flow": null,
            "grid_auto_rows": null,
            "grid_column": null,
            "grid_gap": null,
            "grid_row": null,
            "grid_template_areas": null,
            "grid_template_columns": null,
            "grid_template_rows": null,
            "height": null,
            "justify_content": null,
            "justify_items": null,
            "left": null,
            "margin": null,
            "max_height": null,
            "max_width": null,
            "min_height": null,
            "min_width": null,
            "object_fit": null,
            "object_position": null,
            "order": null,
            "overflow": null,
            "overflow_x": null,
            "overflow_y": null,
            "padding": null,
            "right": null,
            "top": null,
            "visibility": null,
            "width": null
          }
        },
        "77306a0dc094452ba3c0767cb1197e48": {
          "model_module": "@jupyter-widgets/controls",
          "model_name": "DescriptionStyleModel",
          "model_module_version": "1.5.0",
          "state": {
            "_model_module": "@jupyter-widgets/controls",
            "_model_module_version": "1.5.0",
            "_model_name": "DescriptionStyleModel",
            "_view_count": null,
            "_view_module": "@jupyter-widgets/base",
            "_view_module_version": "1.2.0",
            "_view_name": "StyleView",
            "description_width": ""
          }
        },
        "3c416d7a3889462699e5ddbfd6251c16": {
          "model_module": "@jupyter-widgets/controls",
          "model_name": "HBoxModel",
          "model_module_version": "1.5.0",
          "state": {
            "_dom_classes": [],
            "_model_module": "@jupyter-widgets/controls",
            "_model_module_version": "1.5.0",
            "_model_name": "HBoxModel",
            "_view_count": null,
            "_view_module": "@jupyter-widgets/controls",
            "_view_module_version": "1.5.0",
            "_view_name": "HBoxView",
            "box_style": "",
            "children": [
              "IPY_MODEL_b1f651265f8f4709b9758b6ec9bb0241",
              "IPY_MODEL_82c06e94fdc04a5fa05ad0d98d73e5dd",
              "IPY_MODEL_536923e63c314a11a2bceffc33704f6c"
            ],
            "layout": "IPY_MODEL_b77ee9d0a37b4155b508f856cd8edaf9"
          }
        },
        "b1f651265f8f4709b9758b6ec9bb0241": {
          "model_module": "@jupyter-widgets/controls",
          "model_name": "HTMLModel",
          "model_module_version": "1.5.0",
          "state": {
            "_dom_classes": [],
            "_model_module": "@jupyter-widgets/controls",
            "_model_module_version": "1.5.0",
            "_model_name": "HTMLModel",
            "_view_count": null,
            "_view_module": "@jupyter-widgets/controls",
            "_view_module_version": "1.5.0",
            "_view_name": "HTMLView",
            "description": "",
            "description_tooltip": null,
            "layout": "IPY_MODEL_65a8de68f637402aba3b98b99dfc0815",
            "placeholder": "​",
            "style": "IPY_MODEL_bb56684c5267492ab5210c9db42b66a3",
            "value": "Shuffling /root/tensorflow_datasets/emnist/byclass/incomplete.XOS1G6_3.1.0/emnist-test.array_record*...:  72%"
          }
        },
        "82c06e94fdc04a5fa05ad0d98d73e5dd": {
          "model_module": "@jupyter-widgets/controls",
          "model_name": "FloatProgressModel",
          "model_module_version": "1.5.0",
          "state": {
            "_dom_classes": [],
            "_model_module": "@jupyter-widgets/controls",
            "_model_module_version": "1.5.0",
            "_model_name": "FloatProgressModel",
            "_view_count": null,
            "_view_module": "@jupyter-widgets/controls",
            "_view_module_version": "1.5.0",
            "_view_name": "ProgressView",
            "bar_style": "",
            "description": "",
            "description_tooltip": null,
            "layout": "IPY_MODEL_f71efa14b4a641e0baf8f0a6e4988cdd",
            "max": 116323,
            "min": 0,
            "orientation": "horizontal",
            "style": "IPY_MODEL_a885d65dc79041e1b6fbb3d89426a0fd",
            "value": 116323
          }
        },
        "536923e63c314a11a2bceffc33704f6c": {
          "model_module": "@jupyter-widgets/controls",
          "model_name": "HTMLModel",
          "model_module_version": "1.5.0",
          "state": {
            "_dom_classes": [],
            "_model_module": "@jupyter-widgets/controls",
            "_model_module_version": "1.5.0",
            "_model_name": "HTMLModel",
            "_view_count": null,
            "_view_module": "@jupyter-widgets/controls",
            "_view_module_version": "1.5.0",
            "_view_name": "HTMLView",
            "description": "",
            "description_tooltip": null,
            "layout": "IPY_MODEL_c102d5684458461c82fd1b9e61c81812",
            "placeholder": "​",
            "style": "IPY_MODEL_a165e587798f492a84b81e351a6254fb",
            "value": " 83341/116323 [00:02&lt;00:00, 42084.23 examples/s]"
          }
        },
        "b77ee9d0a37b4155b508f856cd8edaf9": {
          "model_module": "@jupyter-widgets/base",
          "model_name": "LayoutModel",
          "model_module_version": "1.2.0",
          "state": {
            "_model_module": "@jupyter-widgets/base",
            "_model_module_version": "1.2.0",
            "_model_name": "LayoutModel",
            "_view_count": null,
            "_view_module": "@jupyter-widgets/base",
            "_view_module_version": "1.2.0",
            "_view_name": "LayoutView",
            "align_content": null,
            "align_items": null,
            "align_self": null,
            "border": null,
            "bottom": null,
            "display": null,
            "flex": null,
            "flex_flow": null,
            "grid_area": null,
            "grid_auto_columns": null,
            "grid_auto_flow": null,
            "grid_auto_rows": null,
            "grid_column": null,
            "grid_gap": null,
            "grid_row": null,
            "grid_template_areas": null,
            "grid_template_columns": null,
            "grid_template_rows": null,
            "height": null,
            "justify_content": null,
            "justify_items": null,
            "left": null,
            "margin": null,
            "max_height": null,
            "max_width": null,
            "min_height": null,
            "min_width": null,
            "object_fit": null,
            "object_position": null,
            "order": null,
            "overflow": null,
            "overflow_x": null,
            "overflow_y": null,
            "padding": null,
            "right": null,
            "top": null,
            "visibility": "hidden",
            "width": null
          }
        },
        "65a8de68f637402aba3b98b99dfc0815": {
          "model_module": "@jupyter-widgets/base",
          "model_name": "LayoutModel",
          "model_module_version": "1.2.0",
          "state": {
            "_model_module": "@jupyter-widgets/base",
            "_model_module_version": "1.2.0",
            "_model_name": "LayoutModel",
            "_view_count": null,
            "_view_module": "@jupyter-widgets/base",
            "_view_module_version": "1.2.0",
            "_view_name": "LayoutView",
            "align_content": null,
            "align_items": null,
            "align_self": null,
            "border": null,
            "bottom": null,
            "display": null,
            "flex": null,
            "flex_flow": null,
            "grid_area": null,
            "grid_auto_columns": null,
            "grid_auto_flow": null,
            "grid_auto_rows": null,
            "grid_column": null,
            "grid_gap": null,
            "grid_row": null,
            "grid_template_areas": null,
            "grid_template_columns": null,
            "grid_template_rows": null,
            "height": null,
            "justify_content": null,
            "justify_items": null,
            "left": null,
            "margin": null,
            "max_height": null,
            "max_width": null,
            "min_height": null,
            "min_width": null,
            "object_fit": null,
            "object_position": null,
            "order": null,
            "overflow": null,
            "overflow_x": null,
            "overflow_y": null,
            "padding": null,
            "right": null,
            "top": null,
            "visibility": null,
            "width": null
          }
        },
        "bb56684c5267492ab5210c9db42b66a3": {
          "model_module": "@jupyter-widgets/controls",
          "model_name": "DescriptionStyleModel",
          "model_module_version": "1.5.0",
          "state": {
            "_model_module": "@jupyter-widgets/controls",
            "_model_module_version": "1.5.0",
            "_model_name": "DescriptionStyleModel",
            "_view_count": null,
            "_view_module": "@jupyter-widgets/base",
            "_view_module_version": "1.2.0",
            "_view_name": "StyleView",
            "description_width": ""
          }
        },
        "f71efa14b4a641e0baf8f0a6e4988cdd": {
          "model_module": "@jupyter-widgets/base",
          "model_name": "LayoutModel",
          "model_module_version": "1.2.0",
          "state": {
            "_model_module": "@jupyter-widgets/base",
            "_model_module_version": "1.2.0",
            "_model_name": "LayoutModel",
            "_view_count": null,
            "_view_module": "@jupyter-widgets/base",
            "_view_module_version": "1.2.0",
            "_view_name": "LayoutView",
            "align_content": null,
            "align_items": null,
            "align_self": null,
            "border": null,
            "bottom": null,
            "display": null,
            "flex": null,
            "flex_flow": null,
            "grid_area": null,
            "grid_auto_columns": null,
            "grid_auto_flow": null,
            "grid_auto_rows": null,
            "grid_column": null,
            "grid_gap": null,
            "grid_row": null,
            "grid_template_areas": null,
            "grid_template_columns": null,
            "grid_template_rows": null,
            "height": null,
            "justify_content": null,
            "justify_items": null,
            "left": null,
            "margin": null,
            "max_height": null,
            "max_width": null,
            "min_height": null,
            "min_width": null,
            "object_fit": null,
            "object_position": null,
            "order": null,
            "overflow": null,
            "overflow_x": null,
            "overflow_y": null,
            "padding": null,
            "right": null,
            "top": null,
            "visibility": null,
            "width": null
          }
        },
        "a885d65dc79041e1b6fbb3d89426a0fd": {
          "model_module": "@jupyter-widgets/controls",
          "model_name": "ProgressStyleModel",
          "model_module_version": "1.5.0",
          "state": {
            "_model_module": "@jupyter-widgets/controls",
            "_model_module_version": "1.5.0",
            "_model_name": "ProgressStyleModel",
            "_view_count": null,
            "_view_module": "@jupyter-widgets/base",
            "_view_module_version": "1.2.0",
            "_view_name": "StyleView",
            "bar_color": null,
            "description_width": ""
          }
        },
        "c102d5684458461c82fd1b9e61c81812": {
          "model_module": "@jupyter-widgets/base",
          "model_name": "LayoutModel",
          "model_module_version": "1.2.0",
          "state": {
            "_model_module": "@jupyter-widgets/base",
            "_model_module_version": "1.2.0",
            "_model_name": "LayoutModel",
            "_view_count": null,
            "_view_module": "@jupyter-widgets/base",
            "_view_module_version": "1.2.0",
            "_view_name": "LayoutView",
            "align_content": null,
            "align_items": null,
            "align_self": null,
            "border": null,
            "bottom": null,
            "display": null,
            "flex": null,
            "flex_flow": null,
            "grid_area": null,
            "grid_auto_columns": null,
            "grid_auto_flow": null,
            "grid_auto_rows": null,
            "grid_column": null,
            "grid_gap": null,
            "grid_row": null,
            "grid_template_areas": null,
            "grid_template_columns": null,
            "grid_template_rows": null,
            "height": null,
            "justify_content": null,
            "justify_items": null,
            "left": null,
            "margin": null,
            "max_height": null,
            "max_width": null,
            "min_height": null,
            "min_width": null,
            "object_fit": null,
            "object_position": null,
            "order": null,
            "overflow": null,
            "overflow_x": null,
            "overflow_y": null,
            "padding": null,
            "right": null,
            "top": null,
            "visibility": null,
            "width": null
          }
        },
        "a165e587798f492a84b81e351a6254fb": {
          "model_module": "@jupyter-widgets/controls",
          "model_name": "DescriptionStyleModel",
          "model_module_version": "1.5.0",
          "state": {
            "_model_module": "@jupyter-widgets/controls",
            "_model_module_version": "1.5.0",
            "_model_name": "DescriptionStyleModel",
            "_view_count": null,
            "_view_module": "@jupyter-widgets/base",
            "_view_module_version": "1.2.0",
            "_view_name": "StyleView",
            "description_width": ""
          }
        }
      }
    }
  },
  "nbformat": 4,
  "nbformat_minor": 0
}